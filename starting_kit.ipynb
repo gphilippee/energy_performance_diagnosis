{
 "cells": [
  {
   "cell_type": "markdown",
   "id": "339ef528",
   "metadata": {},
   "source": [
    "![](img/LOGO.png)"
   ]
  },
  {
   "cell_type": "markdown",
   "id": "229af017",
   "metadata": {},
   "source": [
    "# RAMP starting kit on Energy Consumption (EC) and Greenhouse gases (GHG) classification\n",
    "\n",
    "_Authors: Cyril Zaimi, Guillaume Philippe, Matteo Ratet, Max Wu, Pierre Loviton, & Hugo Peltier_\n",
    "\n",
    "This challenge was done as a project for the Master 2 Data Science (2022/2023), DATACAMP course\n",
    "\n",
    "## Introduction\n",
    "\n",
    "One of the main levers of the ecological transition is to act on emissions from buildings. Indeed, according to the International Energy Agency, they account for approximately 28% of national greenhouse gas emissions. This is why this sector is at the heart of a massive investment plan launched in 2021 by the government. France has set itself the goal of reducing the energy consumption of existing buildings by 38% by 2030. \n",
    "\n",
    "The **Energy Performance Diagnostic** (EPD) is a tool that has been introduced to evaluate the energy efficiency of buildings. Its primary purpose is to help identify areas where a structure is wasting energy and suggest ways to improve energy performance. This can involve recommendations on how to upgrade insulation, replace inefficient heating or cooling systems, install energy-efficient lighting, and more.\n",
    "\n",
    "According to recent estimates, of the 30 million primary residences in metropolitan France, as of January 1st, 2022, approximately 5.2 million homes would be an energy leak (labels F and G). This project aims at constructing a model capable of estimating the **energy consumption** (EC) and **greenhouse gas emissions** (GGE) to locate more precisely the renovations to be undertaken in priority.\n",
    "\n",
    "#### Useful links\n",
    "\n",
    "- [Features description](https://koumoul.com/data-fair/embed/dataset/dpe-tertiaire/fields)\n",
    "\n",
    "![](img/performance.png)"
   ]
  },
  {
   "cell_type": "markdown",
   "id": "10dd11dd",
   "metadata": {},
   "source": [
    "## Getting started with the RAMP starting kit\n",
    "\n",
    "### Software prerequisites"
   ]
  },
  {
   "cell_type": "markdown",
   "id": "e137baa1",
   "metadata": {},
   "source": [
    "This starting kit requires the following dependencies:\n",
    "\n",
    "* `numpy`\n",
    "* `pandas`\n",
    "* `geopandas`\n",
    "* `scikit-learn`\n",
    "* `jupyter`\n",
    "* `seaborn`\n",
    "* `matplotlib`\n",
    "* `tqdm`\n",
    "* `gzip`\n",
    "* `os`\n",
    "* `shutil`\n",
    "* `urllib`\n",
    "* `json`\n",
    "* `rampwf`\n",
    "* `folium`"
   ]
  },
  {
   "cell_type": "markdown",
   "id": "4a67182b",
   "metadata": {},
   "source": [
    "The requirements can be installed by running:\n",
    "\n",
    "    pip install -r requirements.txt"
   ]
  },
  {
   "cell_type": "markdown",
   "id": "f5fad50d-4743-4098-9841-c923672eb34c",
   "metadata": {},
   "source": [
    "# Get and Format data "
   ]
  },
  {
   "cell_type": "markdown",
   "id": "1e82d8cb",
   "metadata": {},
   "source": [
    "### Getting the data\n",
    "\n",
    "The public train and test data can be downloaded by running from the root of the starting kit:\n",
    "\n",
    "    python download_data.py\n"
   ]
  },
  {
   "cell_type": "code",
   "execution_count": 1,
   "id": "7cddf3bd-e2b1-4540-bd9b-514427c003ec",
   "metadata": {
    "tags": []
   },
   "outputs": [],
   "source": [
    "import numpy as np\n",
    "import pandas as pd\n",
    "import geopandas as gpd\n",
    "from sklearn.model_selection import KFold\n",
    "from tqdm import tqdm\n",
    "import gzip\n",
    "import os\n",
    "import shutil\n",
    "import urllib.request\n",
    "import requests\n",
    "import json\n",
    "import io\n",
    "import rampwf as rw\n",
    "from rampwf.workflows.sklearn_pipeline import SKLearnPipeline, Estimator\n",
    "from rampwf.prediction_types import make_regression\n",
    "import matplotlib.pyplot as plt\n",
    "import seaborn as sns\n",
    "import folium\n",
    "\n",
    "from problem import *"
   ]
  },
  {
   "cell_type": "code",
   "execution_count": 2,
   "id": "f6fb01c2-3740-426b-829b-6818f7387e48",
   "metadata": {},
   "outputs": [],
   "source": [
    "X_train, Y_train = get_train_data()\n",
    "X_test, Y_test = get_test_data()"
   ]
  },
  {
   "cell_type": "code",
   "execution_count": 3,
   "id": "87fab1c5-7faf-4c04-94e2-d0189c4ea625",
   "metadata": {},
   "outputs": [
    {
     "data": {
      "text/html": [
       "<div>\n",
       "<style scoped>\n",
       "    .dataframe tbody tr th:only-of-type {\n",
       "        vertical-align: middle;\n",
       "    }\n",
       "\n",
       "    .dataframe tbody tr th {\n",
       "        vertical-align: top;\n",
       "    }\n",
       "\n",
       "    .dataframe thead th {\n",
       "        text-align: right;\n",
       "    }\n",
       "</style>\n",
       "<table border=\"1\" class=\"dataframe\">\n",
       "  <thead>\n",
       "    <tr style=\"text-align: right;\">\n",
       "      <th></th>\n",
       "      <th>tr002_type_batiment_id</th>\n",
       "      <th>secteur_activite</th>\n",
       "      <th>tr012_categorie_erp_id</th>\n",
       "      <th>tr013_type_erp_id</th>\n",
       "      <th>annee_construction</th>\n",
       "      <th>surface_habitable</th>\n",
       "      <th>surface_thermique_lot</th>\n",
       "      <th>tv016_departement_id</th>\n",
       "      <th>commune</th>\n",
       "      <th>arrondissement</th>\n",
       "      <th>...</th>\n",
       "      <th>tv017_zone_hiver_code</th>\n",
       "      <th>tv017_zone_hiver_t_ext_moyen</th>\n",
       "      <th>tv017_zone_hiver_peta_cw</th>\n",
       "      <th>tv017_zone_hiver_dh14</th>\n",
       "      <th>tv017_zone_hiver_prs1</th>\n",
       "      <th>tv018_zone_ete_code</th>\n",
       "      <th>tv018_zone_ete_sclim_inf_150</th>\n",
       "      <th>tv018_zone_ete_sclim_sup_150</th>\n",
       "      <th>tv018_zone_ete_rclim_autres_etages</th>\n",
       "      <th>tv018_zone_ete_rclim_dernier_etage</th>\n",
       "    </tr>\n",
       "    <tr>\n",
       "      <th>id</th>\n",
       "      <th></th>\n",
       "      <th></th>\n",
       "      <th></th>\n",
       "      <th></th>\n",
       "      <th></th>\n",
       "      <th></th>\n",
       "      <th></th>\n",
       "      <th></th>\n",
       "      <th></th>\n",
       "      <th></th>\n",
       "      <th></th>\n",
       "      <th></th>\n",
       "      <th></th>\n",
       "      <th></th>\n",
       "      <th></th>\n",
       "      <th></th>\n",
       "      <th></th>\n",
       "      <th></th>\n",
       "      <th></th>\n",
       "      <th></th>\n",
       "      <th></th>\n",
       "    </tr>\n",
       "  </thead>\n",
       "  <tbody>\n",
       "    <tr>\n",
       "      <th>10408629</th>\n",
       "      <td>4</td>\n",
       "      <td>\\N</td>\n",
       "      <td>5</td>\n",
       "      <td>\\N</td>\n",
       "      <td>1947</td>\n",
       "      <td>110.00</td>\n",
       "      <td>110.00</td>\n",
       "      <td>62</td>\n",
       "      <td>AIRE SUR LA LYS</td>\n",
       "      <td>None</td>\n",
       "      <td>...</td>\n",
       "      <td>H1</td>\n",
       "      <td>6.58</td>\n",
       "      <td>10.5</td>\n",
       "      <td>42030</td>\n",
       "      <td>3.6</td>\n",
       "      <td>Ea</td>\n",
       "      <td>2</td>\n",
       "      <td>4</td>\n",
       "      <td>1.5</td>\n",
       "      <td>2</td>\n",
       "    </tr>\n",
       "    <tr>\n",
       "      <th>48420</th>\n",
       "      <td>4</td>\n",
       "      <td>tabac presse</td>\n",
       "      <td>\\N</td>\n",
       "      <td>\\N</td>\n",
       "      <td>1974</td>\n",
       "      <td>164.24</td>\n",
       "      <td>164.24</td>\n",
       "      <td>59</td>\n",
       "      <td>CAPPELLE-LA-GRANDE</td>\n",
       "      <td>00</td>\n",
       "      <td>...</td>\n",
       "      <td>H1</td>\n",
       "      <td>6.58</td>\n",
       "      <td>10.5</td>\n",
       "      <td>42030</td>\n",
       "      <td>3.6</td>\n",
       "      <td>Ea</td>\n",
       "      <td>2</td>\n",
       "      <td>4</td>\n",
       "      <td>1.5</td>\n",
       "      <td>2</td>\n",
       "    </tr>\n",
       "    <tr>\n",
       "      <th>7710054</th>\n",
       "      <td>4</td>\n",
       "      <td>Bureau, Administration, Enseignement</td>\n",
       "      <td>\\N</td>\n",
       "      <td>\\N</td>\n",
       "      <td>1947</td>\n",
       "      <td>164.56</td>\n",
       "      <td>164.56</td>\n",
       "      <td>75</td>\n",
       "      <td>PARIS 03</td>\n",
       "      <td>None</td>\n",
       "      <td>...</td>\n",
       "      <td>H1</td>\n",
       "      <td>6.58</td>\n",
       "      <td>10.5</td>\n",
       "      <td>42030</td>\n",
       "      <td>3.6</td>\n",
       "      <td>Eb</td>\n",
       "      <td>3</td>\n",
       "      <td>5</td>\n",
       "      <td>2.0</td>\n",
       "      <td>3</td>\n",
       "    </tr>\n",
       "    <tr>\n",
       "      <th>11399812</th>\n",
       "      <td>4</td>\n",
       "      <td>None</td>\n",
       "      <td>\\N</td>\n",
       "      <td>\\N</td>\n",
       "      <td>1970</td>\n",
       "      <td>0.00</td>\n",
       "      <td>0.00</td>\n",
       "      <td>60</td>\n",
       "      <td>BEAUVAIS</td>\n",
       "      <td>00</td>\n",
       "      <td>...</td>\n",
       "      <td>H1</td>\n",
       "      <td>6.58</td>\n",
       "      <td>10.5</td>\n",
       "      <td>42030</td>\n",
       "      <td>3.6</td>\n",
       "      <td>Ea</td>\n",
       "      <td>2</td>\n",
       "      <td>4</td>\n",
       "      <td>1.5</td>\n",
       "      <td>2</td>\n",
       "    </tr>\n",
       "    <tr>\n",
       "      <th>7837691</th>\n",
       "      <td>4</td>\n",
       "      <td>None</td>\n",
       "      <td>\\N</td>\n",
       "      <td>12</td>\n",
       "      <td>1980</td>\n",
       "      <td>0.00</td>\n",
       "      <td>0.00</td>\n",
       "      <td>43</td>\n",
       "      <td>BRIVES-CHARENSAC</td>\n",
       "      <td>00</td>\n",
       "      <td>...</td>\n",
       "      <td>H1</td>\n",
       "      <td>6.58</td>\n",
       "      <td>10.5</td>\n",
       "      <td>42030</td>\n",
       "      <td>3.6</td>\n",
       "      <td>Ec</td>\n",
       "      <td>4</td>\n",
       "      <td>6</td>\n",
       "      <td>3.0</td>\n",
       "      <td>4</td>\n",
       "    </tr>\n",
       "  </tbody>\n",
       "</table>\n",
       "<p>5 rows × 103 columns</p>\n",
       "</div>"
      ],
      "text/plain": [
       "          tr002_type_batiment_id                      secteur_activite  \\\n",
       "id                                                                       \n",
       "10408629                       4                                    \\N   \n",
       "48420                          4                          tabac presse   \n",
       "7710054                        4  Bureau, Administration, Enseignement   \n",
       "11399812                       4                                  None   \n",
       "7837691                        4                                  None   \n",
       "\n",
       "         tr012_categorie_erp_id tr013_type_erp_id  annee_construction  \\\n",
       "id                                                                      \n",
       "10408629                      5                \\N                1947   \n",
       "48420                        \\N                \\N                1974   \n",
       "7710054                      \\N                \\N                1947   \n",
       "11399812                     \\N                \\N                1970   \n",
       "7837691                      \\N                12                1980   \n",
       "\n",
       "         surface_habitable surface_thermique_lot  tv016_departement_id  \\\n",
       "id                                                                       \n",
       "10408629            110.00                110.00                    62   \n",
       "48420               164.24                164.24                    59   \n",
       "7710054             164.56                164.56                    75   \n",
       "11399812              0.00                  0.00                    60   \n",
       "7837691               0.00                  0.00                    43   \n",
       "\n",
       "                     commune arrondissement  ... tv017_zone_hiver_code  \\\n",
       "id                                           ...                         \n",
       "10408629     AIRE SUR LA LYS           None  ...                    H1   \n",
       "48420     CAPPELLE-LA-GRANDE             00  ...                    H1   \n",
       "7710054             PARIS 03           None  ...                    H1   \n",
       "11399812            BEAUVAIS             00  ...                    H1   \n",
       "7837691     BRIVES-CHARENSAC             00  ...                    H1   \n",
       "\n",
       "         tv017_zone_hiver_t_ext_moyen tv017_zone_hiver_peta_cw  \\\n",
       "id                                                               \n",
       "10408629                         6.58                     10.5   \n",
       "48420                            6.58                     10.5   \n",
       "7710054                          6.58                     10.5   \n",
       "11399812                         6.58                     10.5   \n",
       "7837691                          6.58                     10.5   \n",
       "\n",
       "         tv017_zone_hiver_dh14 tv017_zone_hiver_prs1 tv018_zone_ete_code  \\\n",
       "id                                                                         \n",
       "10408629                 42030                   3.6                  Ea   \n",
       "48420                    42030                   3.6                  Ea   \n",
       "7710054                  42030                   3.6                  Eb   \n",
       "11399812                 42030                   3.6                  Ea   \n",
       "7837691                  42030                   3.6                  Ec   \n",
       "\n",
       "         tv018_zone_ete_sclim_inf_150 tv018_zone_ete_sclim_sup_150  \\\n",
       "id                                                                   \n",
       "10408629                            2                            4   \n",
       "48420                               2                            4   \n",
       "7710054                             3                            5   \n",
       "11399812                            2                            4   \n",
       "7837691                             4                            6   \n",
       "\n",
       "         tv018_zone_ete_rclim_autres_etages tv018_zone_ete_rclim_dernier_etage  \n",
       "id                                                                              \n",
       "10408629                                1.5                                  2  \n",
       "48420                                   1.5                                  2  \n",
       "7710054                                 2.0                                  3  \n",
       "11399812                                1.5                                  2  \n",
       "7837691                                 3.0                                  4  \n",
       "\n",
       "[5 rows x 103 columns]"
      ]
     },
     "execution_count": 3,
     "metadata": {},
     "output_type": "execute_result"
    }
   ],
   "source": [
    "X_train.head()"
   ]
  },
  {
   "cell_type": "code",
   "execution_count": 4,
   "id": "8c9f5cb2",
   "metadata": {},
   "outputs": [
    {
     "name": "stdout",
     "output_type": "stream",
     "text": [
      "<class 'pandas.core.frame.DataFrame'>\n",
      "Int64Index: 130937 entries, 10408629 to 6708173\n",
      "Columns: 103 entries, tr002_type_batiment_id to tv018_zone_ete_rclim_dernier_etage\n",
      "dtypes: float64(20), int64(20), object(63)\n",
      "memory usage: 103.9+ MB\n"
     ]
    }
   ],
   "source": [
    "X_train.info()"
   ]
  },
  {
   "cell_type": "code",
   "execution_count": 5,
   "id": "dd611f23",
   "metadata": {},
   "outputs": [
    {
     "data": {
      "text/html": [
       "<div>\n",
       "<style scoped>\n",
       "    .dataframe tbody tr th:only-of-type {\n",
       "        vertical-align: middle;\n",
       "    }\n",
       "\n",
       "    .dataframe tbody tr th {\n",
       "        vertical-align: top;\n",
       "    }\n",
       "\n",
       "    .dataframe thead th {\n",
       "        text-align: right;\n",
       "    }\n",
       "</style>\n",
       "<table border=\"1\" class=\"dataframe\">\n",
       "  <thead>\n",
       "    <tr style=\"text-align: right;\">\n",
       "      <th></th>\n",
       "      <th>classe_consommation_energie</th>\n",
       "      <th>classe_estimation_ges</th>\n",
       "    </tr>\n",
       "    <tr>\n",
       "      <th>id</th>\n",
       "      <th></th>\n",
       "      <th></th>\n",
       "    </tr>\n",
       "  </thead>\n",
       "  <tbody>\n",
       "    <tr>\n",
       "      <th>10408629</th>\n",
       "      <td>D</td>\n",
       "      <td>C</td>\n",
       "    </tr>\n",
       "    <tr>\n",
       "      <th>48420</th>\n",
       "      <td>D</td>\n",
       "      <td>D</td>\n",
       "    </tr>\n",
       "    <tr>\n",
       "      <th>7710054</th>\n",
       "      <td>C</td>\n",
       "      <td>D</td>\n",
       "    </tr>\n",
       "    <tr>\n",
       "      <th>11399812</th>\n",
       "      <td>D</td>\n",
       "      <td>B</td>\n",
       "    </tr>\n",
       "    <tr>\n",
       "      <th>7837691</th>\n",
       "      <td>D</td>\n",
       "      <td>D</td>\n",
       "    </tr>\n",
       "  </tbody>\n",
       "</table>\n",
       "</div>"
      ],
      "text/plain": [
       "         classe_consommation_energie classe_estimation_ges\n",
       "id                                                        \n",
       "10408629                           D                     C\n",
       "48420                              D                     D\n",
       "7710054                            C                     D\n",
       "11399812                           D                     B\n",
       "7837691                            D                     D"
      ]
     },
     "execution_count": 5,
     "metadata": {},
     "output_type": "execute_result"
    }
   ],
   "source": [
    "Y_train.head()"
   ]
  },
  {
   "cell_type": "code",
   "execution_count": 6,
   "id": "6e514b11",
   "metadata": {},
   "outputs": [
    {
     "data": {
      "text/plain": [
       "(130937, 103)"
      ]
     },
     "execution_count": 6,
     "metadata": {},
     "output_type": "execute_result"
    }
   ],
   "source": [
    "X_train.shape"
   ]
  },
  {
   "cell_type": "code",
   "execution_count": 7,
   "id": "a9c8e12c",
   "metadata": {},
   "outputs": [
    {
     "data": {
      "text/plain": [
       "(56116, 103)"
      ]
     },
     "execution_count": 7,
     "metadata": {},
     "output_type": "execute_result"
    }
   ],
   "source": [
    "X_test.shape"
   ]
  },
  {
   "cell_type": "code",
   "execution_count": 8,
   "id": "d6ad1beb",
   "metadata": {},
   "outputs": [
    {
     "data": {
      "text/plain": [
       "(130937, 2)"
      ]
     },
     "execution_count": 8,
     "metadata": {},
     "output_type": "execute_result"
    }
   ],
   "source": [
    "Y_train.shape"
   ]
  },
  {
   "cell_type": "code",
   "execution_count": 9,
   "id": "1705cfe9-8969-423c-bf50-5cca14938083",
   "metadata": {},
   "outputs": [
    {
     "data": {
      "text/plain": [
       "(56116, 2)"
      ]
     },
     "execution_count": 9,
     "metadata": {},
     "output_type": "execute_result"
    }
   ],
   "source": [
    "Y_test.shape"
   ]
  },
  {
   "cell_type": "code",
   "execution_count": 10,
   "id": "9df40180-2adf-420c-ba5c-59b6e7b2ce83",
   "metadata": {},
   "outputs": [],
   "source": [
    "df_train = pd.concat([X_train, Y_train], axis=1)\n",
    "df_test = pd.concat([X_test, Y_test], axis=1)\n",
    "\n",
    "df = pd.concat([df_train, df_test], axis=0)"
   ]
  },
  {
   "cell_type": "code",
   "execution_count": 11,
   "id": "d0f384d5",
   "metadata": {},
   "outputs": [
    {
     "data": {
      "text/plain": [
       "(130937, 105)"
      ]
     },
     "execution_count": 11,
     "metadata": {},
     "output_type": "execute_result"
    }
   ],
   "source": [
    "df_train.shape"
   ]
  },
  {
   "cell_type": "markdown",
   "id": "3b5fb1b7",
   "metadata": {},
   "source": [
    "# Descriptive statistics"
   ]
  },
  {
   "cell_type": "code",
   "execution_count": 12,
   "id": "641bb80f-3f9c-41ca-9699-9e7ff3e74809",
   "metadata": {},
   "outputs": [
    {
     "data": {
      "text/html": [
       "<div>\n",
       "<style scoped>\n",
       "    .dataframe tbody tr th:only-of-type {\n",
       "        vertical-align: middle;\n",
       "    }\n",
       "\n",
       "    .dataframe tbody tr th {\n",
       "        vertical-align: top;\n",
       "    }\n",
       "\n",
       "    .dataframe thead th {\n",
       "        text-align: right;\n",
       "    }\n",
       "</style>\n",
       "<table border=\"1\" class=\"dataframe\">\n",
       "  <thead>\n",
       "    <tr style=\"text-align: right;\">\n",
       "      <th></th>\n",
       "      <th>tr002_type_batiment_id</th>\n",
       "      <th>annee_construction</th>\n",
       "      <th>tv016_departement_id</th>\n",
       "      <th>etat_avancement</th>\n",
       "      <th>est_efface</th>\n",
       "      <th>longitude</th>\n",
       "      <th>latitude</th>\n",
       "      <th>geo_score</th>\n",
       "      <th>tr002_type_batiment_est_efface</th>\n",
       "      <th>tr002_type_batiment_ordre</th>\n",
       "      <th>...</th>\n",
       "      <th>tv016_departement_fecs_ancienne_i_c</th>\n",
       "      <th>tv016_departement_fecs_recente_i_c</th>\n",
       "      <th>tv017_zone_hiver_t_ext_moyen</th>\n",
       "      <th>tv017_zone_hiver_peta_cw</th>\n",
       "      <th>tv017_zone_hiver_dh14</th>\n",
       "      <th>tv017_zone_hiver_prs1</th>\n",
       "      <th>tv018_zone_ete_sclim_inf_150</th>\n",
       "      <th>tv018_zone_ete_sclim_sup_150</th>\n",
       "      <th>tv018_zone_ete_rclim_autres_etages</th>\n",
       "      <th>tv018_zone_ete_rclim_dernier_etage</th>\n",
       "    </tr>\n",
       "  </thead>\n",
       "  <tbody>\n",
       "    <tr>\n",
       "      <th>count</th>\n",
       "      <td>187053.000000</td>\n",
       "      <td>187053.000000</td>\n",
       "      <td>187053.000000</td>\n",
       "      <td>187053.0</td>\n",
       "      <td>187053.0</td>\n",
       "      <td>187053.000000</td>\n",
       "      <td>187053.000000</td>\n",
       "      <td>187053.000000</td>\n",
       "      <td>187053.0</td>\n",
       "      <td>187053.000000</td>\n",
       "      <td>...</td>\n",
       "      <td>187053.000000</td>\n",
       "      <td>187053.000000</td>\n",
       "      <td>187053.000000</td>\n",
       "      <td>187053.000000</td>\n",
       "      <td>187053.000000</td>\n",
       "      <td>187053.000000</td>\n",
       "      <td>187053.000000</td>\n",
       "      <td>187053.000000</td>\n",
       "      <td>187053.000000</td>\n",
       "      <td>187053.000000</td>\n",
       "    </tr>\n",
       "    <tr>\n",
       "      <th>mean</th>\n",
       "      <td>4.025164</td>\n",
       "      <td>1965.262225</td>\n",
       "      <td>55.993665</td>\n",
       "      <td>1.0</td>\n",
       "      <td>0.0</td>\n",
       "      <td>2.718157</td>\n",
       "      <td>47.214891</td>\n",
       "      <td>0.815826</td>\n",
       "      <td>0.0</td>\n",
       "      <td>4.974836</td>\n",
       "      <td>...</td>\n",
       "      <td>29.717075</td>\n",
       "      <td>42.759956</td>\n",
       "      <td>7.258081</td>\n",
       "      <td>11.260554</td>\n",
       "      <td>37909.521419</td>\n",
       "      <td>3.483813</td>\n",
       "      <td>3.319220</td>\n",
       "      <td>5.319220</td>\n",
       "      <td>2.406716</td>\n",
       "      <td>3.319220</td>\n",
       "    </tr>\n",
       "    <tr>\n",
       "      <th>std</th>\n",
       "      <td>0.156623</td>\n",
       "      <td>77.670844</td>\n",
       "      <td>25.487928</td>\n",
       "      <td>0.0</td>\n",
       "      <td>0.0</td>\n",
       "      <td>2.742295</td>\n",
       "      <td>2.093733</td>\n",
       "      <td>0.210064</td>\n",
       "      <td>0.0</td>\n",
       "      <td>0.156623</td>\n",
       "      <td>...</td>\n",
       "      <td>4.790128</td>\n",
       "      <td>8.696925</td>\n",
       "      <td>0.992353</td>\n",
       "      <td>1.203829</td>\n",
       "      <td>6205.918603</td>\n",
       "      <td>0.201932</td>\n",
       "      <td>0.885804</td>\n",
       "      <td>0.885804</td>\n",
       "      <td>0.768040</td>\n",
       "      <td>0.885804</td>\n",
       "    </tr>\n",
       "    <tr>\n",
       "      <th>min</th>\n",
       "      <td>4.000000</td>\n",
       "      <td>-1.000000</td>\n",
       "      <td>1.000000</td>\n",
       "      <td>1.0</td>\n",
       "      <td>0.0</td>\n",
       "      <td>-61.525777</td>\n",
       "      <td>16.415924</td>\n",
       "      <td>0.300000</td>\n",
       "      <td>0.0</td>\n",
       "      <td>4.000000</td>\n",
       "      <td>...</td>\n",
       "      <td>24.000000</td>\n",
       "      <td>0.000000</td>\n",
       "      <td>6.580000</td>\n",
       "      <td>10.500000</td>\n",
       "      <td>22200.000000</td>\n",
       "      <td>2.900000</td>\n",
       "      <td>2.000000</td>\n",
       "      <td>4.000000</td>\n",
       "      <td>1.500000</td>\n",
       "      <td>2.000000</td>\n",
       "    </tr>\n",
       "    <tr>\n",
       "      <th>25%</th>\n",
       "      <td>4.000000</td>\n",
       "      <td>1947.000000</td>\n",
       "      <td>35.000000</td>\n",
       "      <td>1.0</td>\n",
       "      <td>0.0</td>\n",
       "      <td>1.149685</td>\n",
       "      <td>45.744920</td>\n",
       "      <td>0.690000</td>\n",
       "      <td>0.0</td>\n",
       "      <td>5.000000</td>\n",
       "      <td>...</td>\n",
       "      <td>26.000000</td>\n",
       "      <td>38.000000</td>\n",
       "      <td>6.580000</td>\n",
       "      <td>10.500000</td>\n",
       "      <td>33300.000000</td>\n",
       "      <td>3.400000</td>\n",
       "      <td>3.000000</td>\n",
       "      <td>5.000000</td>\n",
       "      <td>2.000000</td>\n",
       "      <td>3.000000</td>\n",
       "    </tr>\n",
       "    <tr>\n",
       "      <th>50%</th>\n",
       "      <td>4.000000</td>\n",
       "      <td>1969.000000</td>\n",
       "      <td>62.000000</td>\n",
       "      <td>1.0</td>\n",
       "      <td>0.0</td>\n",
       "      <td>2.408653</td>\n",
       "      <td>47.769940</td>\n",
       "      <td>0.950000</td>\n",
       "      <td>0.0</td>\n",
       "      <td>5.000000</td>\n",
       "      <td>...</td>\n",
       "      <td>28.000000</td>\n",
       "      <td>41.000000</td>\n",
       "      <td>6.580000</td>\n",
       "      <td>10.500000</td>\n",
       "      <td>42030.000000</td>\n",
       "      <td>3.600000</td>\n",
       "      <td>3.000000</td>\n",
       "      <td>5.000000</td>\n",
       "      <td>2.000000</td>\n",
       "      <td>3.000000</td>\n",
       "    </tr>\n",
       "    <tr>\n",
       "      <th>75%</th>\n",
       "      <td>4.000000</td>\n",
       "      <td>1989.000000</td>\n",
       "      <td>75.000000</td>\n",
       "      <td>1.0</td>\n",
       "      <td>0.0</td>\n",
       "      <td>4.861759</td>\n",
       "      <td>48.865288</td>\n",
       "      <td>0.970000</td>\n",
       "      <td>0.0</td>\n",
       "      <td>5.000000</td>\n",
       "      <td>...</td>\n",
       "      <td>32.000000</td>\n",
       "      <td>46.000000</td>\n",
       "      <td>8.080000</td>\n",
       "      <td>12.000000</td>\n",
       "      <td>42030.000000</td>\n",
       "      <td>3.600000</td>\n",
       "      <td>4.000000</td>\n",
       "      <td>6.000000</td>\n",
       "      <td>3.000000</td>\n",
       "      <td>4.000000</td>\n",
       "    </tr>\n",
       "    <tr>\n",
       "      <th>max</th>\n",
       "      <td>5.000000</td>\n",
       "      <td>20011.000000</td>\n",
       "      <td>97.000000</td>\n",
       "      <td>1.0</td>\n",
       "      <td>0.0</td>\n",
       "      <td>9.551810</td>\n",
       "      <td>51.080627</td>\n",
       "      <td>0.990000</td>\n",
       "      <td>0.0</td>\n",
       "      <td>5.000000</td>\n",
       "      <td>...</td>\n",
       "      <td>43.000000</td>\n",
       "      <td>62.000000</td>\n",
       "      <td>9.650000</td>\n",
       "      <td>14.500000</td>\n",
       "      <td>42030.000000</td>\n",
       "      <td>3.600000</td>\n",
       "      <td>5.000000</td>\n",
       "      <td>7.000000</td>\n",
       "      <td>4.000000</td>\n",
       "      <td>5.000000</td>\n",
       "    </tr>\n",
       "  </tbody>\n",
       "</table>\n",
       "<p>8 rows × 40 columns</p>\n",
       "</div>"
      ],
      "text/plain": [
       "       tr002_type_batiment_id  annee_construction  tv016_departement_id  \\\n",
       "count           187053.000000       187053.000000         187053.000000   \n",
       "mean                 4.025164         1965.262225             55.993665   \n",
       "std                  0.156623           77.670844             25.487928   \n",
       "min                  4.000000           -1.000000              1.000000   \n",
       "25%                  4.000000         1947.000000             35.000000   \n",
       "50%                  4.000000         1969.000000             62.000000   \n",
       "75%                  4.000000         1989.000000             75.000000   \n",
       "max                  5.000000        20011.000000             97.000000   \n",
       "\n",
       "       etat_avancement  est_efface      longitude       latitude  \\\n",
       "count         187053.0    187053.0  187053.000000  187053.000000   \n",
       "mean               1.0         0.0       2.718157      47.214891   \n",
       "std                0.0         0.0       2.742295       2.093733   \n",
       "min                1.0         0.0     -61.525777      16.415924   \n",
       "25%                1.0         0.0       1.149685      45.744920   \n",
       "50%                1.0         0.0       2.408653      47.769940   \n",
       "75%                1.0         0.0       4.861759      48.865288   \n",
       "max                1.0         0.0       9.551810      51.080627   \n",
       "\n",
       "           geo_score  tr002_type_batiment_est_efface  \\\n",
       "count  187053.000000                        187053.0   \n",
       "mean        0.815826                             0.0   \n",
       "std         0.210064                             0.0   \n",
       "min         0.300000                             0.0   \n",
       "25%         0.690000                             0.0   \n",
       "50%         0.950000                             0.0   \n",
       "75%         0.970000                             0.0   \n",
       "max         0.990000                             0.0   \n",
       "\n",
       "       tr002_type_batiment_ordre  ...  tv016_departement_fecs_ancienne_i_c  \\\n",
       "count              187053.000000  ...                        187053.000000   \n",
       "mean                    4.974836  ...                            29.717075   \n",
       "std                     0.156623  ...                             4.790128   \n",
       "min                     4.000000  ...                            24.000000   \n",
       "25%                     5.000000  ...                            26.000000   \n",
       "50%                     5.000000  ...                            28.000000   \n",
       "75%                     5.000000  ...                            32.000000   \n",
       "max                     5.000000  ...                            43.000000   \n",
       "\n",
       "       tv016_departement_fecs_recente_i_c  tv017_zone_hiver_t_ext_moyen  \\\n",
       "count                       187053.000000                 187053.000000   \n",
       "mean                            42.759956                      7.258081   \n",
       "std                              8.696925                      0.992353   \n",
       "min                              0.000000                      6.580000   \n",
       "25%                             38.000000                      6.580000   \n",
       "50%                             41.000000                      6.580000   \n",
       "75%                             46.000000                      8.080000   \n",
       "max                             62.000000                      9.650000   \n",
       "\n",
       "       tv017_zone_hiver_peta_cw  tv017_zone_hiver_dh14  tv017_zone_hiver_prs1  \\\n",
       "count             187053.000000          187053.000000          187053.000000   \n",
       "mean                  11.260554           37909.521419               3.483813   \n",
       "std                    1.203829            6205.918603               0.201932   \n",
       "min                   10.500000           22200.000000               2.900000   \n",
       "25%                   10.500000           33300.000000               3.400000   \n",
       "50%                   10.500000           42030.000000               3.600000   \n",
       "75%                   12.000000           42030.000000               3.600000   \n",
       "max                   14.500000           42030.000000               3.600000   \n",
       "\n",
       "       tv018_zone_ete_sclim_inf_150  tv018_zone_ete_sclim_sup_150  \\\n",
       "count                 187053.000000                 187053.000000   \n",
       "mean                       3.319220                      5.319220   \n",
       "std                        0.885804                      0.885804   \n",
       "min                        2.000000                      4.000000   \n",
       "25%                        3.000000                      5.000000   \n",
       "50%                        3.000000                      5.000000   \n",
       "75%                        4.000000                      6.000000   \n",
       "max                        5.000000                      7.000000   \n",
       "\n",
       "       tv018_zone_ete_rclim_autres_etages  tv018_zone_ete_rclim_dernier_etage  \n",
       "count                       187053.000000                       187053.000000  \n",
       "mean                             2.406716                            3.319220  \n",
       "std                              0.768040                            0.885804  \n",
       "min                              1.500000                            2.000000  \n",
       "25%                              2.000000                            3.000000  \n",
       "50%                              2.000000                            3.000000  \n",
       "75%                              3.000000                            4.000000  \n",
       "max                              4.000000                            5.000000  \n",
       "\n",
       "[8 rows x 40 columns]"
      ]
     },
     "execution_count": 12,
     "metadata": {},
     "output_type": "execute_result"
    }
   ],
   "source": [
    "df.describe()"
   ]
  },
  {
   "cell_type": "code",
   "execution_count": 13,
   "id": "5089f019",
   "metadata": {},
   "outputs": [
    {
     "data": {
      "text/plain": [
       "(187053, 40)"
      ]
     },
     "execution_count": 13,
     "metadata": {},
     "output_type": "execute_result"
    }
   ],
   "source": [
    "# keep column with int type\n",
    "df_filtered_float = df.select_dtypes(include=[\"int\", \"float\"])\n",
    "df_filtered_float.shape"
   ]
  },
  {
   "cell_type": "code",
   "execution_count": 14,
   "id": "c79505c0",
   "metadata": {},
   "outputs": [
    {
     "data": {
      "text/plain": [
       "Index(['tr002_type_batiment_id', 'annee_construction', 'tv016_departement_id',\n",
       "       'etat_avancement', 'est_efface', 'longitude', 'latitude', 'geo_score',\n",
       "       'tr002_type_batiment_est_efface', 'tr002_type_batiment_ordre',\n",
       "       'tr002_type_batiment_simulateur', 'tr012_categorie_erp_est_efface',\n",
       "       'tr013_type_erp_categorie_id', 'tr013_type_erp_est_efface',\n",
       "       'tv017_zone_hiver_id', 'tv018_zone_ete_id', 'tv016_departement_altmin',\n",
       "       'tv016_departement_altmax', 'tv016_departement_nref',\n",
       "       'tv016_departement_dhref', 'tv016_departement_pref',\n",
       "       'tv016_departement_c2', 'tv016_departement_c3', 'tv016_departement_c4',\n",
       "       'tv016_departement_t_ext_basse', 'tv016_departement_e',\n",
       "       'tv016_departement_fch', 'tv016_departement_fecs_ancienne_m_i',\n",
       "       'tv016_departement_fecs_recente_m_i',\n",
       "       'tv016_departement_fecs_solaire_m_i',\n",
       "       'tv016_departement_fecs_ancienne_i_c',\n",
       "       'tv016_departement_fecs_recente_i_c', 'tv017_zone_hiver_t_ext_moyen',\n",
       "       'tv017_zone_hiver_peta_cw', 'tv017_zone_hiver_dh14',\n",
       "       'tv017_zone_hiver_prs1', 'tv018_zone_ete_sclim_inf_150',\n",
       "       'tv018_zone_ete_sclim_sup_150', 'tv018_zone_ete_rclim_autres_etages',\n",
       "       'tv018_zone_ete_rclim_dernier_etage'],\n",
       "      dtype='object')"
      ]
     },
     "execution_count": 14,
     "metadata": {},
     "output_type": "execute_result"
    }
   ],
   "source": [
    "df_filtered_float.columns"
   ]
  },
  {
   "cell_type": "markdown",
   "id": "1b0277f6",
   "metadata": {},
   "source": [
    "# Features description\n",
    "\n",
    "- annee_construction : year of construction of the building\n",
    "- surface_habitable : the surface which is habitable in $m^2$     \n",
    "- surface_thermique_lot : measures the quantity of heat necessary to maintain a given temperature on the building \n",
    "- surface_commerciale_contractuelle : the sales area in $m^2$ that is leased or made available by the owner of a commercial property to a tenant     \n",
    "- shon : measures the surface in $m^2$ of all the closed and covered premises of a building, intended to be occupied (residential premises, offices, shops, etc.)\n",
    "- surface_utile : measure in $m^2$ calculated by deducting from the living area the parts of the area that cannot be used for human occupation, such as walls, partitions, posts, stairwells, service shafts, lost attic space, etc. In other words, the useful surface measures the actual surface available for the occupant's activities.\n",
    "- surface_thermique_parties_communes : the surface area in $m^2$ of the common parts of a building, such as lobbies, staircases, corridors, cellars and parking lots, which have an impact on the building's energy consumption\n",
    "- nombre_niveaux : number of floors\n",
    "- surface_verriere : the surface in $m^2$ of the glazed elements of a construction, such as windows, French windows, bay windows, glass roofs, glazing of verandas, etc.                     \n",
    "- nombre_entrees_avec_sas : the number of entrances of a building that are equipped with an airlock. An airlock is an enclosed space between the exterior and interior of a building, which limits heat loss and air infiltration\n",
    "- nombre_entrees_sans_sas : the number of entrances of a building that are **NOT** equipped with an airlock. An airlock is an enclosed space between the exterior and interior of a building, which limits heat loss and air infiltration\n",
    "- surface_baies_orientees_nord : area of glazed elements in a building, such as windows, patio doors, bay windows, skylights, conservatory glazing, etc., that face **NORTH** in $m^2$\n",
    "- surface_baies_orientees_est_ouest : area of glazed elements in a building, such as windows, patio doors, bay windows, skylights, conservatory glazing, etc., that face **EAST or WEST** in $m^2$\n",
    "- surface_baies_orientees_sud : area of glazed elements in a building, such as windows, patio doors, bay windows, skylights, conservatory glazing, etc., that face **SOUTH** in $m^2$\n",
    "- surface_planchers_hauts_deperditifs : the surface of floors in $m^2$ separating heated premises from unheated premises, such as lost attics, basements, garages or courtyards, which are considered as thermal buffer zones.\n",
    "- surface_planchers_bas_deperditifs :  the surface area of floors separating heated premises from the ground or crawl space, which are considered as thermal buffer zones.\n",
    "- surface_parois_verticales_opaques_deperditives : the surface of exterior or interior walls of a building that are in direct contact with the outside air or unheated premises, such as cellars, garages or basements in $m^2$\n",
    "- longitude : longitude\n",
    "- latitude : latitude\n"
   ]
  },
  {
   "cell_type": "code",
   "execution_count": 15,
   "id": "9d648d34",
   "metadata": {},
   "outputs": [
    {
     "data": {
      "text/plain": [
       "tr002_type_batiment_id                  int64\n",
       "secteur_activite                       object\n",
       "tr012_categorie_erp_id                 object\n",
       "tr013_type_erp_id                      object\n",
       "annee_construction                      int64\n",
       "                                       ...   \n",
       "tv018_zone_ete_sclim_sup_150            int64\n",
       "tv018_zone_ete_rclim_autres_etages    float64\n",
       "tv018_zone_ete_rclim_dernier_etage      int64\n",
       "classe_consommation_energie            object\n",
       "classe_estimation_ges                  object\n",
       "Length: 105, dtype: object"
      ]
     },
     "execution_count": 15,
     "metadata": {},
     "output_type": "execute_result"
    }
   ],
   "source": [
    "df.dtypes"
   ]
  },
  {
   "cell_type": "markdown",
   "id": "49e9a830",
   "metadata": {},
   "source": [
    "# NaN in data"
   ]
  },
  {
   "cell_type": "code",
   "execution_count": 16,
   "id": "2fa4535a-880c-4925-9d87-2c557600fa7f",
   "metadata": {},
   "outputs": [
    {
     "data": {
      "text/plain": [
       "<AxesSubplot:ylabel='id'>"
      ]
     },
     "execution_count": 16,
     "metadata": {},
     "output_type": "execute_result"
    },
    {
     "data": {
      "image/png": "[encoded data removed]",
      "text/plain": [
       "<Figure size 1080x576 with 2 Axes>"
      ]
     },
     "metadata": {
      "needs_background": "light"
     },
     "output_type": "display_data"
    }
   ],
   "source": [
    "plt.figure(figsize=(15, 8))\n",
    "sns.heatmap(df.isna())"
   ]
  },
  {
   "cell_type": "markdown",
   "id": "7dd5278f-759b-482c-a392-e63e6771c3d1",
   "metadata": {},
   "source": [
    "# Interactive map"
   ]
  },
  {
   "cell_type": "code",
   "execution_count": 17,
   "id": "f38aaa63-e1de-4416-8a46-aed52ef42d5e",
   "metadata": {},
   "outputs": [],
   "source": [
    "dpe = gpd.GeoDataFrame(\n",
    "    df, geometry=gpd.points_from_xy(df.longitude, df.latitude), crs=4326\n",
    ")\n",
    "dpe = dpe.dropna(subset=[\"longitude\", \"latitude\"])"
   ]
  },
  {
   "cell_type": "code",
   "execution_count": 18,
   "id": "faf5dbe5-4f14-4883-bdc8-dd69ef553fac",
   "metadata": {},
   "outputs": [
    {
     "name": "stderr",
     "output_type": "stream",
     "text": [
      "C:\\Users\\hugoj\\anaconda3\\lib\\site-packages\\geopandas\\geodataframe.py:1351: SettingWithCopyWarning: \n",
      "A value is trying to be set on a copy of a slice from a DataFrame.\n",
      "Try using .loc[row_indexer,col_indexer] = value instead\n",
      "\n",
      "See the caveats in the documentation: https://pandas.pydata.org/pandas-docs/stable/user_guide/indexing.html#returning-a-view-versus-a-copy\n",
      "  super().__setitem__(key, value)\n"
     ]
    }
   ],
   "source": [
    "palette = sns.color_palette(\"coolwarm\", 8)\n",
    "\n",
    "\n",
    "def interactive_map_dpe(dpe):\n",
    "    # convert in number\n",
    "    dpe[\"color\"] = [\n",
    "        ord(dpe.iloc[i][\"classe_consommation_energie\"].lower()) - 96\n",
    "        for i in range(len(dpe))\n",
    "    ]\n",
    "    dpe = dpe.loc[dpe[\"color\"] <= 7]\n",
    "    dpe[\"color\"] = [palette.as_hex()[x] for x in dpe[\"color\"]]\n",
    "\n",
    "    center = dpe[[\"latitude\", \"longitude\"]].mean().values.tolist()\n",
    "    sw = dpe[[\"latitude\", \"longitude\"]].min().values.tolist()\n",
    "    ne = dpe[[\"latitude\", \"longitude\"]].max().values.tolist()\n",
    "\n",
    "    m = folium.Map(location=center, tiles=\"Stamen Toner\")\n",
    "\n",
    "    # I can add marker one by one on the map\n",
    "    for i in range(0, len(dpe)):\n",
    "        folium.Marker(\n",
    "            [dpe.iloc[i][\"latitude\"], dpe.iloc[i][\"longitude\"]],\n",
    "            popup=f\"Année de construction: {dpe.iloc[i]['annee_construction']}, <br>DPE: {dpe.iloc[i]['classe_consommation_energie']}\",\n",
    "            icon=folium.Icon(\n",
    "                color=\"black\", icon=\"home\", icon_color=dpe.iloc[i][\"color\"]\n",
    "            ),\n",
    "        ).add_to(m)\n",
    "\n",
    "    m.fit_bounds([sw, ne])\n",
    "\n",
    "    return m\n",
    "\n",
    "\n",
    "m = interactive_map_dpe(dpe.head(10))"
   ]
  },
  {
   "cell_type": "code",
   "execution_count": 19,
   "id": "54c78b75-f835-4889-9a9b-fe849c65e445",
   "metadata": {},
   "outputs": [
    {
     "data": {
      "text/html": [
       "<div style=\"width:100%;\"><div style=\"position:relative;width:100%;height:0;padding-bottom:60%;\"><span style=\"color:#565656\">Make this Notebook Trusted to load map: File -> Trust Notebook</span><iframe srcdoc=\"&lt;!DOCTYPE html&gt;\n",
       "&lt;html&gt;\n",
       "&lt;head&gt;\n",
       "    \n",
       "    &lt;meta http-equiv=&quot;content-type&quot; content=&quot;text/html; charset=UTF-8&quot; /&gt;\n",
       "    \n",
       "        &lt;script&gt;\n",
       "            L_NO_TOUCH = false;\n",
       "            L_DISABLE_3D = false;\n",
       "        &lt;/script&gt;\n",
       "    \n",
       "    &lt;style&gt;html, body {width: 100%;height: 100%;margin: 0;padding: 0;}&lt;/style&gt;\n",
       "    &lt;style&gt;#map {position:absolute;top:0;bottom:0;right:0;left:0;}&lt;/style&gt;\n",
       "    &lt;script src=&quot;https://cdn.jsdelivr.net/npm/leaflet@1.9.3/dist/leaflet.js&quot;&gt;&lt;/script&gt;\n",
       "    &lt;script src=&quot;https://code.jquery.com/jquery-1.12.4.min.js&quot;&gt;&lt;/script&gt;\n",
       "    &lt;script src=&quot;https://cdn.jsdelivr.net/npm/bootstrap@5.2.2/dist/js/bootstrap.bundle.min.js&quot;&gt;&lt;/script&gt;\n",
       "    &lt;script src=&quot;https://cdnjs.cloudflare.com/ajax/libs/Leaflet.awesome-markers/2.0.2/leaflet.awesome-markers.js&quot;&gt;&lt;/script&gt;\n",
       "    &lt;link rel=&quot;stylesheet&quot; href=&quot;https://cdn.jsdelivr.net/npm/leaflet@1.9.3/dist/leaflet.css&quot;/&gt;\n",
       "    &lt;link rel=&quot;stylesheet&quot; href=&quot;https://cdn.jsdelivr.net/npm/bootstrap@5.2.2/dist/css/bootstrap.min.css&quot;/&gt;\n",
       "    &lt;link rel=&quot;stylesheet&quot; href=&quot;https://netdna.bootstrapcdn.com/bootstrap/3.0.0/css/bootstrap.min.css&quot;/&gt;\n",
       "    &lt;link rel=&quot;stylesheet&quot; href=&quot;https://cdn.jsdelivr.net/npm/@fortawesome/fontawesome-free@6.2.0/css/all.min.css&quot;/&gt;\n",
       "    &lt;link rel=&quot;stylesheet&quot; href=&quot;https://cdnjs.cloudflare.com/ajax/libs/Leaflet.awesome-markers/2.0.2/leaflet.awesome-markers.css&quot;/&gt;\n",
       "    &lt;link rel=&quot;stylesheet&quot; href=&quot;https://cdn.jsdelivr.net/gh/python-visualization/folium/folium/templates/leaflet.awesome.rotate.min.css&quot;/&gt;\n",
       "    \n",
       "            &lt;meta name=&quot;viewport&quot; content=&quot;width=device-width,\n",
       "                initial-scale=1.0, maximum-scale=1.0, user-scalable=no&quot; /&gt;\n",
       "            &lt;style&gt;\n",
       "                #map_d24459089551392485c70a6db94d5546 {\n",
       "                    position: relative;\n",
       "                    width: 100.0%;\n",
       "                    height: 100.0%;\n",
       "                    left: 0.0%;\n",
       "                    top: 0.0%;\n",
       "                }\n",
       "                .leaflet-container { font-size: 1rem; }\n",
       "            &lt;/style&gt;\n",
       "        \n",
       "&lt;/head&gt;\n",
       "&lt;body&gt;\n",
       "    \n",
       "    \n",
       "            &lt;div class=&quot;folium-map&quot; id=&quot;map_d24459089551392485c70a6db94d5546&quot; &gt;&lt;/div&gt;\n",
       "        \n",
       "&lt;/body&gt;\n",
       "&lt;script&gt;\n",
       "    \n",
       "    \n",
       "            var map_d24459089551392485c70a6db94d5546 = L.map(\n",
       "                &quot;map_d24459089551392485c70a6db94d5546&quot;,\n",
       "                {\n",
       "                    center: [48.1612034, 2.6958363999999997],\n",
       "                    crs: L.CRS.EPSG3857,\n",
       "                    zoom: 10,\n",
       "                    zoomControl: true,\n",
       "                    preferCanvas: false,\n",
       "                }\n",
       "            );\n",
       "\n",
       "            \n",
       "\n",
       "        \n",
       "    \n",
       "            var tile_layer_415373acc40c103d44e0bd715166c6ae = L.tileLayer(\n",
       "                &quot;https://stamen-tiles-{s}.a.ssl.fastly.net/toner/{z}/{x}/{y}.png&quot;,\n",
       "                {&quot;attribution&quot;: &quot;Map tiles by \\u003ca target=\\&quot;_blank\\&quot; href=\\&quot;http://stamen.com\\&quot;\\u003eStamen Design\\u003c/a\\u003e, under \\u003ca target=\\&quot;_blank\\&quot; href=\\&quot;http://creativecommons.org/licenses/by/3.0\\&quot;\\u003eCC BY 3.0\\u003c/a\\u003e. Data by \\u0026copy; \\u003ca target=\\&quot;_blank\\&quot; href=\\&quot;http://openstreetmap.org\\&quot;\\u003eOpenStreetMap\\u003c/a\\u003e, under \\u003ca target=\\&quot;_blank\\&quot; href=\\&quot;http://www.openstreetmap.org/copyright\\&quot;\\u003eODbL\\u003c/a\\u003e.&quot;, &quot;detectRetina&quot;: false, &quot;maxNativeZoom&quot;: 18, &quot;maxZoom&quot;: 18, &quot;minZoom&quot;: 0, &quot;noWrap&quot;: false, &quot;opacity&quot;: 1, &quot;subdomains&quot;: &quot;abc&quot;, &quot;tms&quot;: false}\n",
       "            ).addTo(map_d24459089551392485c70a6db94d5546);\n",
       "        \n",
       "    \n",
       "            var marker_a85cef64325826741546a8ff1ec69602 = L.marker(\n",
       "                [50.638385, 2.391482],\n",
       "                {}\n",
       "            ).addTo(map_d24459089551392485c70a6db94d5546);\n",
       "        \n",
       "    \n",
       "            var icon_c1b16dde803e970a2a933134a4384ad0 = L.AwesomeMarkers.icon(\n",
       "                {&quot;extraClasses&quot;: &quot;fa-rotate-0&quot;, &quot;icon&quot;: &quot;home&quot;, &quot;iconColor&quot;: &quot;#ead4c8&quot;, &quot;markerColor&quot;: &quot;black&quot;, &quot;prefix&quot;: &quot;glyphicon&quot;}\n",
       "            );\n",
       "            marker_a85cef64325826741546a8ff1ec69602.setIcon(icon_c1b16dde803e970a2a933134a4384ad0);\n",
       "        \n",
       "    \n",
       "        var popup_cbd13e5f098b44ae22b5909177fc44a9 = L.popup({&quot;maxWidth&quot;: &quot;100%&quot;});\n",
       "\n",
       "        \n",
       "            \n",
       "                var html_0bb4376e27250eda4fbd58b9cc167574 = $(`&lt;div id=&quot;html_0bb4376e27250eda4fbd58b9cc167574&quot; style=&quot;width: 100.0%; height: 100.0%;&quot;&gt;Année de construction: 1947, &lt;br&gt;DPE: D&lt;/div&gt;`)[0];\n",
       "                popup_cbd13e5f098b44ae22b5909177fc44a9.setContent(html_0bb4376e27250eda4fbd58b9cc167574);\n",
       "            \n",
       "        \n",
       "\n",
       "        marker_a85cef64325826741546a8ff1ec69602.bindPopup(popup_cbd13e5f098b44ae22b5909177fc44a9)\n",
       "        ;\n",
       "\n",
       "        \n",
       "    \n",
       "    \n",
       "            var marker_f17e2ee2e833dd3d5d65794db3ab01e7 = L.marker(\n",
       "                [51.000695, 2.382002],\n",
       "                {}\n",
       "            ).addTo(map_d24459089551392485c70a6db94d5546);\n",
       "        \n",
       "    \n",
       "            var icon_93f8b9d5ee5fde8a2f0fc186f390297a = L.AwesomeMarkers.icon(\n",
       "                {&quot;extraClasses&quot;: &quot;fa-rotate-0&quot;, &quot;icon&quot;: &quot;home&quot;, &quot;iconColor&quot;: &quot;#ead4c8&quot;, &quot;markerColor&quot;: &quot;black&quot;, &quot;prefix&quot;: &quot;glyphicon&quot;}\n",
       "            );\n",
       "            marker_f17e2ee2e833dd3d5d65794db3ab01e7.setIcon(icon_93f8b9d5ee5fde8a2f0fc186f390297a);\n",
       "        \n",
       "    \n",
       "        var popup_93e55a059e0a2dc69b191000c6f580f2 = L.popup({&quot;maxWidth&quot;: &quot;100%&quot;});\n",
       "\n",
       "        \n",
       "            \n",
       "                var html_c70386e98327eb0f686528574629585f = $(`&lt;div id=&quot;html_c70386e98327eb0f686528574629585f&quot; style=&quot;width: 100.0%; height: 100.0%;&quot;&gt;Année de construction: 1974, &lt;br&gt;DPE: D&lt;/div&gt;`)[0];\n",
       "                popup_93e55a059e0a2dc69b191000c6f580f2.setContent(html_c70386e98327eb0f686528574629585f);\n",
       "            \n",
       "        \n",
       "\n",
       "        marker_f17e2ee2e833dd3d5d65794db3ab01e7.bindPopup(popup_93e55a059e0a2dc69b191000c6f580f2)\n",
       "        ;\n",
       "\n",
       "        \n",
       "    \n",
       "    \n",
       "            var marker_901863f80a06b91ad1fee94f6ec8bfa4 = L.marker(\n",
       "                [48.857859, 2.360872],\n",
       "                {}\n",
       "            ).addTo(map_d24459089551392485c70a6db94d5546);\n",
       "        \n",
       "    \n",
       "            var icon_9f17b1121b81480920d0491fe2bc5911 = L.AwesomeMarkers.icon(\n",
       "                {&quot;extraClasses&quot;: &quot;fa-rotate-0&quot;, &quot;icon&quot;: &quot;home&quot;, &quot;iconColor&quot;: &quot;#cdd9ec&quot;, &quot;markerColor&quot;: &quot;black&quot;, &quot;prefix&quot;: &quot;glyphicon&quot;}\n",
       "            );\n",
       "            marker_901863f80a06b91ad1fee94f6ec8bfa4.setIcon(icon_9f17b1121b81480920d0491fe2bc5911);\n",
       "        \n",
       "    \n",
       "        var popup_c84b5edfc033987f8e9bf43c48b3de1c = L.popup({&quot;maxWidth&quot;: &quot;100%&quot;});\n",
       "\n",
       "        \n",
       "            \n",
       "                var html_127851237ceff42665a089e954d45e82 = $(`&lt;div id=&quot;html_127851237ceff42665a089e954d45e82&quot; style=&quot;width: 100.0%; height: 100.0%;&quot;&gt;Année de construction: 1947, &lt;br&gt;DPE: C&lt;/div&gt;`)[0];\n",
       "                popup_c84b5edfc033987f8e9bf43c48b3de1c.setContent(html_127851237ceff42665a089e954d45e82);\n",
       "            \n",
       "        \n",
       "\n",
       "        marker_901863f80a06b91ad1fee94f6ec8bfa4.bindPopup(popup_c84b5edfc033987f8e9bf43c48b3de1c)\n",
       "        ;\n",
       "\n",
       "        \n",
       "    \n",
       "    \n",
       "            var marker_f2a6b56e1be132dca4f22205ba6f6996 = L.marker(\n",
       "                [49.429748, 2.065088],\n",
       "                {}\n",
       "            ).addTo(map_d24459089551392485c70a6db94d5546);\n",
       "        \n",
       "    \n",
       "            var icon_c4e02bc7fd0d068a401a272c2fac78e5 = L.AwesomeMarkers.icon(\n",
       "                {&quot;extraClasses&quot;: &quot;fa-rotate-0&quot;, &quot;icon&quot;: &quot;home&quot;, &quot;iconColor&quot;: &quot;#ead4c8&quot;, &quot;markerColor&quot;: &quot;black&quot;, &quot;prefix&quot;: &quot;glyphicon&quot;}\n",
       "            );\n",
       "            marker_f2a6b56e1be132dca4f22205ba6f6996.setIcon(icon_c4e02bc7fd0d068a401a272c2fac78e5);\n",
       "        \n",
       "    \n",
       "        var popup_f39b52ecbe29f466ade82f37ee6330a1 = L.popup({&quot;maxWidth&quot;: &quot;100%&quot;});\n",
       "\n",
       "        \n",
       "            \n",
       "                var html_d22df1b87202bd971fd4c3fe2afa5e90 = $(`&lt;div id=&quot;html_d22df1b87202bd971fd4c3fe2afa5e90&quot; style=&quot;width: 100.0%; height: 100.0%;&quot;&gt;Année de construction: 1970, &lt;br&gt;DPE: D&lt;/div&gt;`)[0];\n",
       "                popup_f39b52ecbe29f466ade82f37ee6330a1.setContent(html_d22df1b87202bd971fd4c3fe2afa5e90);\n",
       "            \n",
       "        \n",
       "\n",
       "        marker_f2a6b56e1be132dca4f22205ba6f6996.bindPopup(popup_f39b52ecbe29f466ade82f37ee6330a1)\n",
       "        ;\n",
       "\n",
       "        \n",
       "    \n",
       "    \n",
       "            var marker_0e470d6c505f3ecb92ea70e39a0d73f5 = L.marker(\n",
       "                [45.052505, 3.908481],\n",
       "                {}\n",
       "            ).addTo(map_d24459089551392485c70a6db94d5546);\n",
       "        \n",
       "    \n",
       "            var icon_16290808485485344ebb79064148c55a = L.AwesomeMarkers.icon(\n",
       "                {&quot;extraClasses&quot;: &quot;fa-rotate-0&quot;, &quot;icon&quot;: &quot;home&quot;, &quot;iconColor&quot;: &quot;#ead4c8&quot;, &quot;markerColor&quot;: &quot;black&quot;, &quot;prefix&quot;: &quot;glyphicon&quot;}\n",
       "            );\n",
       "            marker_0e470d6c505f3ecb92ea70e39a0d73f5.setIcon(icon_16290808485485344ebb79064148c55a);\n",
       "        \n",
       "    \n",
       "        var popup_8f96ad89ae32c3e467251ddc30c50f89 = L.popup({&quot;maxWidth&quot;: &quot;100%&quot;});\n",
       "\n",
       "        \n",
       "            \n",
       "                var html_775ae5ae55156403d0f6a39e67104ac5 = $(`&lt;div id=&quot;html_775ae5ae55156403d0f6a39e67104ac5&quot; style=&quot;width: 100.0%; height: 100.0%;&quot;&gt;Année de construction: 1980, &lt;br&gt;DPE: D&lt;/div&gt;`)[0];\n",
       "                popup_8f96ad89ae32c3e467251ddc30c50f89.setContent(html_775ae5ae55156403d0f6a39e67104ac5);\n",
       "            \n",
       "        \n",
       "\n",
       "        marker_0e470d6c505f3ecb92ea70e39a0d73f5.bindPopup(popup_8f96ad89ae32c3e467251ddc30c50f89)\n",
       "        ;\n",
       "\n",
       "        \n",
       "    \n",
       "    \n",
       "            var marker_2b0b5624cad6369cedb2fcd8fdcc07f3 = L.marker(\n",
       "                [48.322184, 3.48777],\n",
       "                {}\n",
       "            ).addTo(map_d24459089551392485c70a6db94d5546);\n",
       "        \n",
       "    \n",
       "            var icon_b8940d987d3218af5f0c9c2a20586f18 = L.AwesomeMarkers.icon(\n",
       "                {&quot;extraClasses&quot;: &quot;fa-rotate-0&quot;, &quot;icon&quot;: &quot;home&quot;, &quot;iconColor&quot;: &quot;#cdd9ec&quot;, &quot;markerColor&quot;: &quot;black&quot;, &quot;prefix&quot;: &quot;glyphicon&quot;}\n",
       "            );\n",
       "            marker_2b0b5624cad6369cedb2fcd8fdcc07f3.setIcon(icon_b8940d987d3218af5f0c9c2a20586f18);\n",
       "        \n",
       "    \n",
       "        var popup_f338641450b4b2cdf0bbf6076d5e11e6 = L.popup({&quot;maxWidth&quot;: &quot;100%&quot;});\n",
       "\n",
       "        \n",
       "            \n",
       "                var html_9e3f96a090713703e094ce9322b69743 = $(`&lt;div id=&quot;html_9e3f96a090713703e094ce9322b69743&quot; style=&quot;width: 100.0%; height: 100.0%;&quot;&gt;Année de construction: 1948, &lt;br&gt;DPE: C&lt;/div&gt;`)[0];\n",
       "                popup_f338641450b4b2cdf0bbf6076d5e11e6.setContent(html_9e3f96a090713703e094ce9322b69743);\n",
       "            \n",
       "        \n",
       "\n",
       "        marker_2b0b5624cad6369cedb2fcd8fdcc07f3.bindPopup(popup_f338641450b4b2cdf0bbf6076d5e11e6)\n",
       "        ;\n",
       "\n",
       "        \n",
       "    \n",
       "    \n",
       "            var marker_e171ec3588b296d07e0320b74119ef47 = L.marker(\n",
       "                [42.915943, 1.903861],\n",
       "                {}\n",
       "            ).addTo(map_d24459089551392485c70a6db94d5546);\n",
       "        \n",
       "    \n",
       "            var icon_ee912349c5a7f762d588bd64a86c592b = L.AwesomeMarkers.icon(\n",
       "                {&quot;extraClasses&quot;: &quot;fa-rotate-0&quot;, &quot;icon&quot;: &quot;home&quot;, &quot;iconColor&quot;: &quot;#aac7fd&quot;, &quot;markerColor&quot;: &quot;black&quot;, &quot;prefix&quot;: &quot;glyphicon&quot;}\n",
       "            );\n",
       "            marker_e171ec3588b296d07e0320b74119ef47.setIcon(icon_ee912349c5a7f762d588bd64a86c592b);\n",
       "        \n",
       "    \n",
       "        var popup_0f0b48184dfea89e6ee2c144aaecdb49 = L.popup({&quot;maxWidth&quot;: &quot;100%&quot;});\n",
       "\n",
       "        \n",
       "            \n",
       "                var html_daf75919f14d09d8edf1cfbb4909b8e4 = $(`&lt;div id=&quot;html_daf75919f14d09d8edf1cfbb4909b8e4&quot; style=&quot;width: 100.0%; height: 100.0%;&quot;&gt;Année de construction: 1947, &lt;br&gt;DPE: B&lt;/div&gt;`)[0];\n",
       "                popup_0f0b48184dfea89e6ee2c144aaecdb49.setContent(html_daf75919f14d09d8edf1cfbb4909b8e4);\n",
       "            \n",
       "        \n",
       "\n",
       "        marker_e171ec3588b296d07e0320b74119ef47.bindPopup(popup_0f0b48184dfea89e6ee2c144aaecdb49)\n",
       "        ;\n",
       "\n",
       "        \n",
       "    \n",
       "    \n",
       "            var marker_75546fb645d06babe0152d73cef6c4de = L.marker(\n",
       "                [47.299169, 5.010758],\n",
       "                {}\n",
       "            ).addTo(map_d24459089551392485c70a6db94d5546);\n",
       "        \n",
       "    \n",
       "            var icon_5e14d817b0a764c136ff5b5290ddf98c = L.AwesomeMarkers.icon(\n",
       "                {&quot;extraClasses&quot;: &quot;fa-rotate-0&quot;, &quot;icon&quot;: &quot;home&quot;, &quot;iconColor&quot;: &quot;#aac7fd&quot;, &quot;markerColor&quot;: &quot;black&quot;, &quot;prefix&quot;: &quot;glyphicon&quot;}\n",
       "            );\n",
       "            marker_75546fb645d06babe0152d73cef6c4de.setIcon(icon_5e14d817b0a764c136ff5b5290ddf98c);\n",
       "        \n",
       "    \n",
       "        var popup_085b24b851a9c8426aa0124955abf4c1 = L.popup({&quot;maxWidth&quot;: &quot;100%&quot;});\n",
       "\n",
       "        \n",
       "            \n",
       "                var html_3da6a5389f2e729da968eed5966f571e = $(`&lt;div id=&quot;html_3da6a5389f2e729da968eed5966f571e&quot; style=&quot;width: 100.0%; height: 100.0%;&quot;&gt;Année de construction: 1970, &lt;br&gt;DPE: B&lt;/div&gt;`)[0];\n",
       "                popup_085b24b851a9c8426aa0124955abf4c1.setContent(html_3da6a5389f2e729da968eed5966f571e);\n",
       "            \n",
       "        \n",
       "\n",
       "        marker_75546fb645d06babe0152d73cef6c4de.bindPopup(popup_085b24b851a9c8426aa0124955abf4c1)\n",
       "        ;\n",
       "\n",
       "        \n",
       "    \n",
       "    \n",
       "            var marker_c5a801cfe15d2496435906297cad5659 = L.marker(\n",
       "                [48.879763, 2.277278],\n",
       "                {}\n",
       "            ).addTo(map_d24459089551392485c70a6db94d5546);\n",
       "        \n",
       "    \n",
       "            var icon_638034e7be6ff3e333bf948d513ed998 = L.AwesomeMarkers.icon(\n",
       "                {&quot;extraClasses&quot;: &quot;fa-rotate-0&quot;, &quot;icon&quot;: &quot;home&quot;, &quot;iconColor&quot;: &quot;#aac7fd&quot;, &quot;markerColor&quot;: &quot;black&quot;, &quot;prefix&quot;: &quot;glyphicon&quot;}\n",
       "            );\n",
       "            marker_c5a801cfe15d2496435906297cad5659.setIcon(icon_638034e7be6ff3e333bf948d513ed998);\n",
       "        \n",
       "    \n",
       "        var popup_783ceacca64a069d3f95ae91b9168cb2 = L.popup({&quot;maxWidth&quot;: &quot;100%&quot;});\n",
       "\n",
       "        \n",
       "            \n",
       "                var html_97f2ca4ca79bf3c4a13304f4ee8478f1 = $(`&lt;div id=&quot;html_97f2ca4ca79bf3c4a13304f4ee8478f1&quot; style=&quot;width: 100.0%; height: 100.0%;&quot;&gt;Année de construction: 1947, &lt;br&gt;DPE: B&lt;/div&gt;`)[0];\n",
       "                popup_783ceacca64a069d3f95ae91b9168cb2.setContent(html_97f2ca4ca79bf3c4a13304f4ee8478f1);\n",
       "            \n",
       "        \n",
       "\n",
       "        marker_c5a801cfe15d2496435906297cad5659.bindPopup(popup_783ceacca64a069d3f95ae91b9168cb2)\n",
       "        ;\n",
       "\n",
       "        \n",
       "    \n",
       "    \n",
       "            var marker_05c19bfc7f6e67e2822eaab0c297079d = L.marker(\n",
       "                [49.215783, 1.170772],\n",
       "                {}\n",
       "            ).addTo(map_d24459089551392485c70a6db94d5546);\n",
       "        \n",
       "    \n",
       "            var icon_9ed997d77bc4912fe44de3863096a822 = L.AwesomeMarkers.icon(\n",
       "                {&quot;extraClasses&quot;: &quot;fa-rotate-0&quot;, &quot;icon&quot;: &quot;home&quot;, &quot;iconColor&quot;: &quot;#d95847&quot;, &quot;markerColor&quot;: &quot;black&quot;, &quot;prefix&quot;: &quot;glyphicon&quot;}\n",
       "            );\n",
       "            marker_05c19bfc7f6e67e2822eaab0c297079d.setIcon(icon_9ed997d77bc4912fe44de3863096a822);\n",
       "        \n",
       "    \n",
       "        var popup_cc9e4f46df6476875e0da2b7e068e6ce = L.popup({&quot;maxWidth&quot;: &quot;100%&quot;});\n",
       "\n",
       "        \n",
       "            \n",
       "                var html_f3d12220577c1ef4812a6c42c500bff2 = $(`&lt;div id=&quot;html_f3d12220577c1ef4812a6c42c500bff2&quot; style=&quot;width: 100.0%; height: 100.0%;&quot;&gt;Année de construction: 1982, &lt;br&gt;DPE: G&lt;/div&gt;`)[0];\n",
       "                popup_cc9e4f46df6476875e0da2b7e068e6ce.setContent(html_f3d12220577c1ef4812a6c42c500bff2);\n",
       "            \n",
       "        \n",
       "\n",
       "        marker_05c19bfc7f6e67e2822eaab0c297079d.bindPopup(popup_cc9e4f46df6476875e0da2b7e068e6ce)\n",
       "        ;\n",
       "\n",
       "        \n",
       "    \n",
       "    \n",
       "            map_d24459089551392485c70a6db94d5546.fitBounds(\n",
       "                [[42.915943, 1.170772], [51.000695, 5.010758]],\n",
       "                {}\n",
       "            );\n",
       "        \n",
       "&lt;/script&gt;\n",
       "&lt;/html&gt;\" style=\"position:absolute;width:100%;height:100%;left:0;top:0;border:none !important;\" allowfullscreen webkitallowfullscreen mozallowfullscreen></iframe></div></div>"
      ],
      "text/plain": [
       "<folium.folium.Map at 0x11f0513dc08>"
      ]
     },
     "execution_count": 19,
     "metadata": {},
     "output_type": "execute_result"
    }
   ],
   "source": [
    "m"
   ]
  },
  {
   "cell_type": "markdown",
   "id": "72b9eb89",
   "metadata": {},
   "source": [
    "# Labels exploration"
   ]
  },
  {
   "cell_type": "code",
   "execution_count": 20,
   "id": "33499b2b",
   "metadata": {},
   "outputs": [
    {
     "data": {
      "text/html": [
       "<div>\n",
       "<style scoped>\n",
       "    .dataframe tbody tr th:only-of-type {\n",
       "        vertical-align: middle;\n",
       "    }\n",
       "\n",
       "    .dataframe tbody tr th {\n",
       "        vertical-align: top;\n",
       "    }\n",
       "\n",
       "    .dataframe thead th {\n",
       "        text-align: right;\n",
       "    }\n",
       "</style>\n",
       "<table border=\"1\" class=\"dataframe\">\n",
       "  <thead>\n",
       "    <tr style=\"text-align: right;\">\n",
       "      <th></th>\n",
       "      <th>classe_consommation_energie</th>\n",
       "      <th>classe_estimation_ges</th>\n",
       "    </tr>\n",
       "    <tr>\n",
       "      <th>id</th>\n",
       "      <th></th>\n",
       "      <th></th>\n",
       "    </tr>\n",
       "  </thead>\n",
       "  <tbody>\n",
       "    <tr>\n",
       "      <th>10408629</th>\n",
       "      <td>D</td>\n",
       "      <td>C</td>\n",
       "    </tr>\n",
       "    <tr>\n",
       "      <th>48420</th>\n",
       "      <td>D</td>\n",
       "      <td>D</td>\n",
       "    </tr>\n",
       "    <tr>\n",
       "      <th>7710054</th>\n",
       "      <td>C</td>\n",
       "      <td>D</td>\n",
       "    </tr>\n",
       "    <tr>\n",
       "      <th>11399812</th>\n",
       "      <td>D</td>\n",
       "      <td>B</td>\n",
       "    </tr>\n",
       "    <tr>\n",
       "      <th>7837691</th>\n",
       "      <td>D</td>\n",
       "      <td>D</td>\n",
       "    </tr>\n",
       "  </tbody>\n",
       "</table>\n",
       "</div>"
      ],
      "text/plain": [
       "         classe_consommation_energie classe_estimation_ges\n",
       "id                                                        \n",
       "10408629                           D                     C\n",
       "48420                              D                     D\n",
       "7710054                            C                     D\n",
       "11399812                           D                     B\n",
       "7837691                            D                     D"
      ]
     },
     "execution_count": 20,
     "metadata": {},
     "output_type": "execute_result"
    }
   ],
   "source": [
    "Y_train.head()"
   ]
  },
  {
   "cell_type": "code",
   "execution_count": 21,
   "id": "ec793d7d",
   "metadata": {},
   "outputs": [
    {
     "data": {
      "text/plain": [
       "D    31146\n",
       "C    27741\n",
       "E    21846\n",
       "G    17378\n",
       "F    12271\n",
       "B    10449\n",
       "A    10106\n",
       "Name: classe_consommation_energie, dtype: int64"
      ]
     },
     "execution_count": 21,
     "metadata": {},
     "output_type": "execute_result"
    }
   ],
   "source": [
    "Y_train.iloc[:, 0].value_counts()"
   ]
  },
  {
   "cell_type": "code",
   "execution_count": 22,
   "id": "c7d85531",
   "metadata": {},
   "outputs": [
    {
     "data": {
      "text/plain": [
       "B    36190\n",
       "C    34519\n",
       "A    23413\n",
       "D    21781\n",
       "E     9368\n",
       "F     3176\n",
       "G     2490\n",
       "Name: classe_estimation_ges, dtype: int64"
      ]
     },
     "execution_count": 22,
     "metadata": {},
     "output_type": "execute_result"
    }
   ],
   "source": [
    "Y_train.iloc[:, 1].value_counts()"
   ]
  },
  {
   "cell_type": "code",
   "execution_count": 23,
   "id": "1ab73c39",
   "metadata": {},
   "outputs": [
    {
     "data": {
      "text/html": [
       "<div>\n",
       "<style scoped>\n",
       "    .dataframe tbody tr th:only-of-type {\n",
       "        vertical-align: middle;\n",
       "    }\n",
       "\n",
       "    .dataframe tbody tr th {\n",
       "        vertical-align: top;\n",
       "    }\n",
       "\n",
       "    .dataframe thead th {\n",
       "        text-align: right;\n",
       "    }\n",
       "</style>\n",
       "<table border=\"1\" class=\"dataframe\">\n",
       "  <thead>\n",
       "    <tr style=\"text-align: right;\">\n",
       "      <th></th>\n",
       "      <th>classe_consommation_energie</th>\n",
       "      <th>classe_estimation_ges</th>\n",
       "    </tr>\n",
       "  </thead>\n",
       "  <tbody>\n",
       "    <tr>\n",
       "      <th>count</th>\n",
       "      <td>130937</td>\n",
       "      <td>130937</td>\n",
       "    </tr>\n",
       "    <tr>\n",
       "      <th>unique</th>\n",
       "      <td>7</td>\n",
       "      <td>7</td>\n",
       "    </tr>\n",
       "    <tr>\n",
       "      <th>top</th>\n",
       "      <td>D</td>\n",
       "      <td>B</td>\n",
       "    </tr>\n",
       "    <tr>\n",
       "      <th>freq</th>\n",
       "      <td>31146</td>\n",
       "      <td>36190</td>\n",
       "    </tr>\n",
       "  </tbody>\n",
       "</table>\n",
       "</div>"
      ],
      "text/plain": [
       "       classe_consommation_energie classe_estimation_ges\n",
       "count                       130937                130937\n",
       "unique                           7                     7\n",
       "top                              D                     B\n",
       "freq                         31146                 36190"
      ]
     },
     "execution_count": 23,
     "metadata": {},
     "output_type": "execute_result"
    }
   ],
   "source": [
    "Y_train.describe()"
   ]
  },
  {
   "cell_type": "code",
   "execution_count": 24,
   "id": "bdb44479",
   "metadata": {},
   "outputs": [
    {
     "data": {
      "text/plain": [
       "(187053, 2)"
      ]
     },
     "execution_count": 24,
     "metadata": {},
     "output_type": "execute_result"
    }
   ],
   "source": [
    "Y = pd.concat([Y_train, Y_test], axis=0)\n",
    "Y.shape"
   ]
  },
  {
   "cell_type": "code",
   "execution_count": 25,
   "id": "41497915",
   "metadata": {},
   "outputs": [
    {
     "data": {
      "image/png": "[encoded data removed]",
      "text/plain": [
       "<Figure size 360x360 with 2 Axes>"
      ]
     },
     "metadata": {
      "needs_background": "light"
     },
     "output_type": "display_data"
    }
   ],
   "source": [
    "sns.displot(\n",
    "    Y,\n",
    "    x=\"classe_consommation_energie\",\n",
    "    y=\"classe_estimation_ges\",\n",
    "    row_order=[\"A\", \"B\", \"C\", \"D\", \"E\", \"F\", \"G\", \"H\"],\n",
    "    col_order=[\"A\", \"B\", \"C\", \"D\", \"E\", \"F\", \"G\", \"H\"],\n",
    "    cbar=True,\n",
    ")\n",
    "plt.show()"
   ]
  },
  {
   "cell_type": "code",
   "execution_count": 26,
   "id": "48d681c4",
   "metadata": {},
   "outputs": [
    {
     "data": {
      "text/plain": [
       "(130937, 19)"
      ]
     },
     "execution_count": 26,
     "metadata": {},
     "output_type": "execute_result"
    }
   ],
   "source": [
    "# Remove useless columns\n",
    "X_filtered = X_train.drop(\n",
    "    columns=[\n",
    "        \"commune\",\n",
    "        \"arrondissement\",\n",
    "        \"type_voie\",\n",
    "        \"nom_rue\",\n",
    "        \"numero_rue\",\n",
    "        \"code_postal\",\n",
    "        \"code_insee_commune\",\n",
    "        \"code_insee_commune_actualise\",\n",
    "        \"numero_lot\",\n",
    "        \"nom_centre_commercial\",\n",
    "        \"tr002_type_batiment_id\",\n",
    "        \"secteur_activite\",\n",
    "        \"tr012_categorie_erp_id\",\n",
    "        \"tr013_type_erp_id\",\n",
    "        \"tv016_departement_id\",\n",
    "        \"batiment\",\n",
    "        \"escalier\",\n",
    "        \"etage\",\n",
    "        \"porte\",\n",
    "        \"quote_part\",\n",
    "        \"portee_dpe_batiment\",\n",
    "        \"partie_batiment\",\n",
    "        \"en_souterrain\",\n",
    "        \"en_surface\",\n",
    "        \"nombre_circulations_verticales\",  # faible variance\n",
    "        \"nombre_boutiques\",  # faible variance\"\n",
    "        \"presence_verriere\",\n",
    "        \"type_vitrage_verriere\",  # faible variance\n",
    "        \"etat_avancement\",\n",
    "        \"adresse_organisme_certificateur\",\n",
    "        \"dpe_vierge\",  # faible variance\n",
    "        \"est_efface\",  # faible variance\n",
    "        \"date_reception_dpe\",  # date\n",
    "        \"geo_score\",\n",
    "        \"geo_type\",\n",
    "        \"geo_adresse\",\n",
    "        \"geo_id\",\n",
    "        \"geo_l4\",\n",
    "        \"geo_l5\",\n",
    "        \"tr002_type_batiment_code\",\n",
    "        \"tr002_type_batiment_description\",\n",
    "        \"tr002_type_batiment_libelle\",\n",
    "        \"tr002_type_batiment_est_efface\",\n",
    "        \"tr002_type_batiment_ordre\",\n",
    "        \"tr002_type_batiment_simulateur\",\n",
    "        \"tr012_categorie_erp_code\",\n",
    "        \"tr012_categorie_erp_categorie\",\n",
    "        \"tr012_categorie_erp_groupe\",\n",
    "        \"tr012_categorie_erp_est_efface\",\n",
    "        \"tr013_type_erp_code\",\n",
    "        \"tr013_type_erp_type\",\n",
    "        \"tr013_type_erp_categorie_id\",\n",
    "        \"tr013_type_erp_est_efface\",\n",
    "        \"tr013_type_erp_categorie\",\n",
    "        \"tv016_departement_code\",\n",
    "        \"tv016_departement_departement\",\n",
    "        \"tv017_zone_hiver_id\",\n",
    "        \"tv018_zone_ete_id\",\n",
    "        \"tv016_departement_altmin\",\n",
    "        \"tv016_departement_altmax\",\n",
    "        \"tv016_departement_nref\",\n",
    "        \"tv016_departement_dhref\",\n",
    "        \"tv016_departement_pref\",\n",
    "        \"tv016_departement_c2\",\n",
    "        \"tv016_departement_c3\",\n",
    "        \"tv016_departement_c4\",\n",
    "        \"tv016_departement_t_ext_basse\",\n",
    "        \"tv016_departement_e\",\n",
    "        \"tv016_departement_fch\",\n",
    "        \"tv016_departement_fecs_ancienne_m_i\",\n",
    "        \"tv016_departement_fecs_recente_m_i\",\n",
    "        \"tv016_departement_fecs_solaire_m_i\",\n",
    "        \"tv016_departement_fecs_ancienne_i_c\",\n",
    "        \"tv016_departement_fecs_recente_i_c\",\n",
    "        \"tv017_zone_hiver_code\",\n",
    "        \"tv017_zone_hiver_t_ext_moyen\",\n",
    "        \"tv017_zone_hiver_peta_cw\",\n",
    "        \"tv017_zone_hiver_dh14\",\n",
    "        \"tv017_zone_hiver_prs1\",\n",
    "        \"tv018_zone_ete_code\",\n",
    "        \"tv018_zone_ete_sclim_inf_150\",\n",
    "        \"tv018_zone_ete_sclim_sup_150\",\n",
    "        \"tv018_zone_ete_rclim_autres_etages\",\n",
    "        \"tv018_zone_ete_rclim_dernier_etage\",\n",
    "    ]\n",
    ")\n",
    "\n",
    "# list of columns to convert to float which is replacing a \"\\N\" to \"0.00\" among possible values\n",
    "nan_to_clean = [\n",
    "    \"surface_parois_verticales_opaques_deperditives\",\n",
    "    \"surface_planchers_bas_deperditifs\",\n",
    "    \"surface_planchers_hauts_deperditifs\",\n",
    "    \"surface_baies_orientees_sud\",\n",
    "    \"surface_baies_orientees_est_ouest\",\n",
    "    \"surface_baies_orientees_nord\",\n",
    "    \"nombre_entrees_sans_sas\",\n",
    "    \"nombre_entrees_avec_sas\",\n",
    "    \"surface_verriere\",\n",
    "    \"nombre_niveaux\",\n",
    "    \"surface_utile\",\n",
    "    \"shon\",\n",
    "    \"surface_commerciale_contractuelle\",\n",
    "    \"surface_thermique_lot\",\n",
    "    \"surface_habitable\",\n",
    "    \"surface_thermique_parties_communes\",\n",
    "]\n",
    "for col in nan_to_clean:\n",
    "    X_filtered[col] = X_filtered[col].replace(r\"\\N\", \"0.00\")\n",
    "    X_filtered[col] = X_filtered[col].replace(\",\", \"\")  # clean the decimals\n",
    "    X_filtered[col] = pd.to_numeric(X_filtered[col], errors=\"coerce\")\n",
    "\n",
    "# Replace NaN by mean for 'surface_commerciale_contractuelle'\n",
    "X_filtered[\"surface_commerciale_contractuelle\"] = X_filtered[\n",
    "    \"surface_commerciale_contractuelle\"\n",
    "].fillna(X_filtered[\"surface_commerciale_contractuelle\"].mean())\n",
    "\n",
    "X_filtered.shape"
   ]
  },
  {
   "cell_type": "code",
   "execution_count": 27,
   "id": "18f43c5f",
   "metadata": {},
   "outputs": [
    {
     "data": {
      "text/html": [
       "<div>\n",
       "<style scoped>\n",
       "    .dataframe tbody tr th:only-of-type {\n",
       "        vertical-align: middle;\n",
       "    }\n",
       "\n",
       "    .dataframe tbody tr th {\n",
       "        vertical-align: top;\n",
       "    }\n",
       "\n",
       "    .dataframe thead th {\n",
       "        text-align: right;\n",
       "    }\n",
       "</style>\n",
       "<table border=\"1\" class=\"dataframe\">\n",
       "  <thead>\n",
       "    <tr style=\"text-align: right;\">\n",
       "      <th></th>\n",
       "      <th>annee_construction</th>\n",
       "      <th>surface_habitable</th>\n",
       "      <th>surface_thermique_lot</th>\n",
       "      <th>surface_commerciale_contractuelle</th>\n",
       "      <th>shon</th>\n",
       "      <th>surface_utile</th>\n",
       "      <th>surface_thermique_parties_communes</th>\n",
       "      <th>nombre_niveaux</th>\n",
       "      <th>surface_verriere</th>\n",
       "      <th>nombre_entrees_avec_sas</th>\n",
       "      <th>nombre_entrees_sans_sas</th>\n",
       "      <th>surface_baies_orientees_nord</th>\n",
       "      <th>surface_baies_orientees_est_ouest</th>\n",
       "      <th>surface_baies_orientees_sud</th>\n",
       "      <th>surface_planchers_hauts_deperditifs</th>\n",
       "      <th>surface_planchers_bas_deperditifs</th>\n",
       "      <th>surface_parois_verticales_opaques_deperditives</th>\n",
       "      <th>longitude</th>\n",
       "      <th>latitude</th>\n",
       "    </tr>\n",
       "    <tr>\n",
       "      <th>id</th>\n",
       "      <th></th>\n",
       "      <th></th>\n",
       "      <th></th>\n",
       "      <th></th>\n",
       "      <th></th>\n",
       "      <th></th>\n",
       "      <th></th>\n",
       "      <th></th>\n",
       "      <th></th>\n",
       "      <th></th>\n",
       "      <th></th>\n",
       "      <th></th>\n",
       "      <th></th>\n",
       "      <th></th>\n",
       "      <th></th>\n",
       "      <th></th>\n",
       "      <th></th>\n",
       "      <th></th>\n",
       "      <th></th>\n",
       "    </tr>\n",
       "  </thead>\n",
       "  <tbody>\n",
       "    <tr>\n",
       "      <th>10408629</th>\n",
       "      <td>1947</td>\n",
       "      <td>110.00</td>\n",
       "      <td>110.00</td>\n",
       "      <td>0.000000</td>\n",
       "      <td>0.0</td>\n",
       "      <td>100.0</td>\n",
       "      <td>0.0</td>\n",
       "      <td>1.0</td>\n",
       "      <td>0.0</td>\n",
       "      <td>0.0</td>\n",
       "      <td>0.0</td>\n",
       "      <td>0.0</td>\n",
       "      <td>0.0</td>\n",
       "      <td>0.0</td>\n",
       "      <td>0.0</td>\n",
       "      <td>0.0</td>\n",
       "      <td>0.0</td>\n",
       "      <td>2.391482</td>\n",
       "      <td>50.638385</td>\n",
       "    </tr>\n",
       "    <tr>\n",
       "      <th>48420</th>\n",
       "      <td>1974</td>\n",
       "      <td>164.24</td>\n",
       "      <td>164.24</td>\n",
       "      <td>5.978682</td>\n",
       "      <td>0.0</td>\n",
       "      <td>0.0</td>\n",
       "      <td>0.0</td>\n",
       "      <td>0.0</td>\n",
       "      <td>0.0</td>\n",
       "      <td>0.0</td>\n",
       "      <td>0.0</td>\n",
       "      <td>0.0</td>\n",
       "      <td>0.0</td>\n",
       "      <td>0.0</td>\n",
       "      <td>0.0</td>\n",
       "      <td>0.0</td>\n",
       "      <td>0.0</td>\n",
       "      <td>2.382002</td>\n",
       "      <td>51.000695</td>\n",
       "    </tr>\n",
       "    <tr>\n",
       "      <th>7710054</th>\n",
       "      <td>1947</td>\n",
       "      <td>164.56</td>\n",
       "      <td>164.56</td>\n",
       "      <td>0.000000</td>\n",
       "      <td>149.6</td>\n",
       "      <td>100.0</td>\n",
       "      <td>0.0</td>\n",
       "      <td>1.0</td>\n",
       "      <td>0.0</td>\n",
       "      <td>0.0</td>\n",
       "      <td>0.0</td>\n",
       "      <td>0.0</td>\n",
       "      <td>0.0</td>\n",
       "      <td>0.0</td>\n",
       "      <td>0.0</td>\n",
       "      <td>0.0</td>\n",
       "      <td>0.0</td>\n",
       "      <td>2.360872</td>\n",
       "      <td>48.857859</td>\n",
       "    </tr>\n",
       "    <tr>\n",
       "      <th>11399812</th>\n",
       "      <td>1970</td>\n",
       "      <td>0.00</td>\n",
       "      <td>0.00</td>\n",
       "      <td>0.000000</td>\n",
       "      <td>0.0</td>\n",
       "      <td>0.0</td>\n",
       "      <td>0.0</td>\n",
       "      <td>0.0</td>\n",
       "      <td>0.0</td>\n",
       "      <td>0.0</td>\n",
       "      <td>0.0</td>\n",
       "      <td>0.0</td>\n",
       "      <td>0.0</td>\n",
       "      <td>0.0</td>\n",
       "      <td>0.0</td>\n",
       "      <td>0.0</td>\n",
       "      <td>0.0</td>\n",
       "      <td>2.065088</td>\n",
       "      <td>49.429748</td>\n",
       "    </tr>\n",
       "    <tr>\n",
       "      <th>7837691</th>\n",
       "      <td>1980</td>\n",
       "      <td>0.00</td>\n",
       "      <td>0.00</td>\n",
       "      <td>0.000000</td>\n",
       "      <td>0.0</td>\n",
       "      <td>0.0</td>\n",
       "      <td>0.0</td>\n",
       "      <td>0.0</td>\n",
       "      <td>0.0</td>\n",
       "      <td>0.0</td>\n",
       "      <td>0.0</td>\n",
       "      <td>0.0</td>\n",
       "      <td>0.0</td>\n",
       "      <td>0.0</td>\n",
       "      <td>0.0</td>\n",
       "      <td>0.0</td>\n",
       "      <td>0.0</td>\n",
       "      <td>3.908481</td>\n",
       "      <td>45.052505</td>\n",
       "    </tr>\n",
       "  </tbody>\n",
       "</table>\n",
       "</div>"
      ],
      "text/plain": [
       "          annee_construction  surface_habitable  surface_thermique_lot  \\\n",
       "id                                                                       \n",
       "10408629                1947             110.00                 110.00   \n",
       "48420                   1974             164.24                 164.24   \n",
       "7710054                 1947             164.56                 164.56   \n",
       "11399812                1970               0.00                   0.00   \n",
       "7837691                 1980               0.00                   0.00   \n",
       "\n",
       "          surface_commerciale_contractuelle   shon  surface_utile  \\\n",
       "id                                                                  \n",
       "10408629                           0.000000    0.0          100.0   \n",
       "48420                              5.978682    0.0            0.0   \n",
       "7710054                            0.000000  149.6          100.0   \n",
       "11399812                           0.000000    0.0            0.0   \n",
       "7837691                            0.000000    0.0            0.0   \n",
       "\n",
       "          surface_thermique_parties_communes  nombre_niveaux  \\\n",
       "id                                                             \n",
       "10408629                                 0.0             1.0   \n",
       "48420                                    0.0             0.0   \n",
       "7710054                                  0.0             1.0   \n",
       "11399812                                 0.0             0.0   \n",
       "7837691                                  0.0             0.0   \n",
       "\n",
       "          surface_verriere  nombre_entrees_avec_sas  nombre_entrees_sans_sas  \\\n",
       "id                                                                             \n",
       "10408629               0.0                      0.0                      0.0   \n",
       "48420                  0.0                      0.0                      0.0   \n",
       "7710054                0.0                      0.0                      0.0   \n",
       "11399812               0.0                      0.0                      0.0   \n",
       "7837691                0.0                      0.0                      0.0   \n",
       "\n",
       "          surface_baies_orientees_nord  surface_baies_orientees_est_ouest  \\\n",
       "id                                                                          \n",
       "10408629                           0.0                                0.0   \n",
       "48420                              0.0                                0.0   \n",
       "7710054                            0.0                                0.0   \n",
       "11399812                           0.0                                0.0   \n",
       "7837691                            0.0                                0.0   \n",
       "\n",
       "          surface_baies_orientees_sud  surface_planchers_hauts_deperditifs  \\\n",
       "id                                                                           \n",
       "10408629                          0.0                                  0.0   \n",
       "48420                             0.0                                  0.0   \n",
       "7710054                           0.0                                  0.0   \n",
       "11399812                          0.0                                  0.0   \n",
       "7837691                           0.0                                  0.0   \n",
       "\n",
       "          surface_planchers_bas_deperditifs  \\\n",
       "id                                            \n",
       "10408629                                0.0   \n",
       "48420                                   0.0   \n",
       "7710054                                 0.0   \n",
       "11399812                                0.0   \n",
       "7837691                                 0.0   \n",
       "\n",
       "          surface_parois_verticales_opaques_deperditives  longitude   latitude  \n",
       "id                                                                              \n",
       "10408629                                             0.0   2.391482  50.638385  \n",
       "48420                                                0.0   2.382002  51.000695  \n",
       "7710054                                              0.0   2.360872  48.857859  \n",
       "11399812                                             0.0   2.065088  49.429748  \n",
       "7837691                                              0.0   3.908481  45.052505  "
      ]
     },
     "execution_count": 27,
     "metadata": {},
     "output_type": "execute_result"
    }
   ],
   "source": [
    "X_filtered.head()"
   ]
  },
  {
   "cell_type": "code",
   "execution_count": 28,
   "id": "4b303781",
   "metadata": {},
   "outputs": [
    {
     "data": {
      "text/plain": [
       "annee_construction                                  int64\n",
       "surface_habitable                                 float64\n",
       "surface_thermique_lot                             float64\n",
       "surface_commerciale_contractuelle                 float64\n",
       "shon                                              float64\n",
       "surface_utile                                     float64\n",
       "surface_thermique_parties_communes                float64\n",
       "nombre_niveaux                                    float64\n",
       "surface_verriere                                  float64\n",
       "nombre_entrees_avec_sas                           float64\n",
       "nombre_entrees_sans_sas                           float64\n",
       "surface_baies_orientees_nord                      float64\n",
       "surface_baies_orientees_est_ouest                 float64\n",
       "surface_baies_orientees_sud                       float64\n",
       "surface_planchers_hauts_deperditifs               float64\n",
       "surface_planchers_bas_deperditifs                 float64\n",
       "surface_parois_verticales_opaques_deperditives    float64\n",
       "longitude                                         float64\n",
       "latitude                                          float64\n",
       "dtype: object"
      ]
     },
     "execution_count": 28,
     "metadata": {},
     "output_type": "execute_result"
    }
   ],
   "source": [
    "X_filtered.dtypes"
   ]
  },
  {
   "cell_type": "markdown",
   "id": "507b2a8f",
   "metadata": {},
   "source": [
    "## Energy consumption\n",
    "\n",
    "A significant temporal evolution of the housing market and energy consumption"
   ]
  },
  {
   "cell_type": "code",
   "execution_count": 29,
   "id": "8ecfe988",
   "metadata": {},
   "outputs": [],
   "source": [
    "df_test = X_filtered.join(Y, how = 'left')[['annee_construction', 'classe_consommation_energie']]\n",
    "df_test ['decennie'] = np.floor(df_test['annee_construction']/10) * 10\n",
    "df_test ['decennie'] = df_test ['decennie'].astype(int)\n",
    "df_test = df_test[(df_test['decennie'] >= 1940) & (df_test['decennie'] < 2020)]\n",
    "df_test = df_test.groupby(['decennie', 'classe_consommation_energie']).count()\n",
    "df_test ['decennie_classe'] = df_test.index.to_numpy()\n",
    "loc = pd.DataFrame.from_records(df_test.decennie_classe.reset_index(drop=True),\n",
    "                                columns=['decennie','classe'],\n",
    "                                index=df_test.index)\n",
    "\n",
    "df_test['Nombre de logements'] = df_test['annee_construction']\n",
    "df_test = df_test.join(loc, how = 'left')[['Nombre de logements']].reset_index()\n",
    "\n",
    "df_test = df_test.pivot(values = 'Nombre de logements', index = 'decennie', columns= 'classe_consommation_energie')"
   ]
  },
  {
   "cell_type": "code",
   "execution_count": 30,
   "id": "2fe05d42",
   "metadata": {},
   "outputs": [
    {
     "data": {
      "text/plain": [
       "<AxesSubplot:title={'center':'Energy consumption class of housing across time'}, xlabel='Décennie de construction', ylabel='Nombre de logements'>"
      ]
     },
     "execution_count": 30,
     "metadata": {},
     "output_type": "execute_result"
    },
    {
     "data": {
      "image/png": "[encoded data removed]",
      "text/plain": [
       "<Figure size 1080x576 with 1 Axes>"
      ]
     },
     "metadata": {
      "needs_background": "light"
     },
     "output_type": "display_data"
    }
   ],
   "source": [
    "df_test.plot(kind='bar', stacked=False, xlabel= 'Décennie de construction', ylabel= 'Nombre de logements', figsize=(15,8), \n",
    "title = 'Energy consumption class of housing across time' )\n",
    "#df = df.set_index([\"Date\",\"City\"])\n",
    "#df_test.plot.bar(stacked=True, figsize=(10,8))"
   ]
  },
  {
   "cell_type": "code",
   "execution_count": 31,
   "id": "03ce129e",
   "metadata": {},
   "outputs": [
    {
     "data": {
      "text/plain": [
       "<AxesSubplot:title={'center':'Energy consumption class of housing in 1940-1950'}, ylabel='Nombre de logements'>"
      ]
     },
     "execution_count": 31,
     "metadata": {},
     "output_type": "execute_result"
    },
    {
     "data": {
      "image/png": "[encoded data removed]",
      "text/plain": [
       "<Figure size 432x432 with 1 Axes>"
      ]
     },
     "metadata": {},
     "output_type": "display_data"
    }
   ],
   "source": [
    "df_test.loc[1940, :].plot(kind='pie', xlabel= 1940, ylabel= 'Nombre de logements', figsize=(6,6), \n",
    "title = 'Energy consumption class of housing in 1940-1950' )\n"
   ]
  },
  {
   "cell_type": "code",
   "execution_count": 32,
   "id": "5a6bae13",
   "metadata": {},
   "outputs": [
    {
     "data": {
      "text/plain": [
       "<AxesSubplot:title={'center':'Energy consumption class of housing in 2010-2020'}, ylabel='Nombre de logements'>"
      ]
     },
     "execution_count": 32,
     "metadata": {},
     "output_type": "execute_result"
    },
    {
     "data": {
      "image/png": "[encoded data removed]",
      "text/plain": [
       "<Figure size 432x432 with 1 Axes>"
      ]
     },
     "metadata": {},
     "output_type": "display_data"
    }
   ],
   "source": [
    "df_test.loc[2010, :].plot(kind='pie', xlabel= 2020, ylabel= 'Nombre de logements', figsize=(6,6), \n",
    "title = 'Energy consumption class of housing in 2010-2020' )"
   ]
  },
  {
   "cell_type": "markdown",
   "id": "4544ef0c",
   "metadata": {},
   "source": [
    "## Greenhouse gaz emission"
   ]
  },
  {
   "cell_type": "code",
   "execution_count": 33,
   "id": "ed1b0407",
   "metadata": {},
   "outputs": [],
   "source": [
    "df_test = X_filtered.join(Y, how = 'left')[['annee_construction', 'classe_estimation_ges']]\n",
    "df_test ['decennie'] = np.floor(df_test['annee_construction']/10) * 10\n",
    "df_test ['decennie'] = df_test ['decennie'].astype(int)\n",
    "df_test = df_test[(df_test['decennie'] >= 1940) & (df_test['decennie'] < 2020)]\n",
    "df_test = df_test.groupby(['decennie', 'classe_estimation_ges']).count()\n",
    "df_test ['decennie_classe'] = df_test.index.to_numpy()\n",
    "loc = pd.DataFrame.from_records(df_test.decennie_classe.reset_index(drop=True),\n",
    "                                columns=['decennie','classe'],\n",
    "                                index=df_test.index)\n",
    "\n",
    "df_test['Nombre de logements'] = df_test['annee_construction']\n",
    "df_test = df_test.join(loc, how = 'left')[['Nombre de logements']].reset_index()\n",
    "\n",
    "df_test = df_test.pivot(values = 'Nombre de logements', index = 'decennie', columns= 'classe_estimation_ges')"
   ]
  },
  {
   "cell_type": "code",
   "execution_count": 34,
   "id": "43ed5eef",
   "metadata": {},
   "outputs": [
    {
     "data": {
      "text/plain": [
       "<AxesSubplot:title={'center':'Greenhouse gaz emission of housing across time'}, xlabel='Décennie de construction', ylabel='Nombre de logements'>"
      ]
     },
     "execution_count": 34,
     "metadata": {},
     "output_type": "execute_result"
    },
    {
     "data": {
      "image/png": "[encoded data removed]",
      "text/plain": [
       "<Figure size 1080x576 with 1 Axes>"
      ]
     },
     "metadata": {
      "needs_background": "light"
     },
     "output_type": "display_data"
    }
   ],
   "source": [
    "df_test.plot(kind='bar', stacked=False, xlabel= 'Décennie de construction', ylabel= 'Nombre de logements', figsize=(15,8), \n",
    "title = 'Greenhouse gaz emission of housing across time' )"
   ]
  },
  {
   "cell_type": "code",
   "execution_count": 35,
   "id": "76e310af",
   "metadata": {},
   "outputs": [
    {
     "data": {
      "text/plain": [
       "<AxesSubplot:title={'center':'Energy consumption class of housing in 1940-1950'}, ylabel='Nombre de logements'>"
      ]
     },
     "execution_count": 35,
     "metadata": {},
     "output_type": "execute_result"
    },
    {
     "data": {
      "image/png": "[encoded data removed]",
      "text/plain": [
       "<Figure size 432x432 with 1 Axes>"
      ]
     },
     "metadata": {},
     "output_type": "display_data"
    }
   ],
   "source": [
    "df_test.loc[1940, :].plot(kind='pie', xlabel= 1940, ylabel= 'Nombre de logements', figsize=(6,6), \n",
    "title = 'Energy consumption class of housing in 1940-1950' )"
   ]
  },
  {
   "cell_type": "code",
   "execution_count": 36,
   "id": "43f9a652",
   "metadata": {},
   "outputs": [
    {
     "data": {
      "text/plain": [
       "<AxesSubplot:title={'center':'Energy consumption class of housing in 2010-2020'}, ylabel='Nombre de logements'>"
      ]
     },
     "execution_count": 36,
     "metadata": {},
     "output_type": "execute_result"
    },
    {
     "data": {
      "image/png": "[encoded data removed]",
      "text/plain": [
       "<Figure size 432x432 with 1 Axes>"
      ]
     },
     "metadata": {},
     "output_type": "display_data"
    }
   ],
   "source": [
    "df_test.loc[2010, :].plot(kind='pie', xlabel= 2020, ylabel= 'Nombre de logements', figsize=(6,6), \n",
    "title = 'Energy consumption class of housing in 2010-2020' )"
   ]
  },
  {
   "cell_type": "markdown",
   "id": "6258cd4c",
   "metadata": {},
   "source": [
    "## Difference in activities and environmental impact"
   ]
  },
  {
   "cell_type": "code",
   "execution_count": 61,
   "id": "1a27821e",
   "metadata": {},
   "outputs": [
    {
     "data": {
      "text/plain": [
       "secteur_activite\n",
       "\\N                                               30368\n",
       "Autres (théâtres, salles de sport, restaurati    22110\n",
       "Commerce                                         11765\n",
       "Bureau, Administration, Enseignement              8778\n",
       "Bureaux                                           7346\n",
       "bureaux                                           5449\n",
       "Autres                                            3484\n",
       "Habitation (Parties privatives d'immeuble col     1950\n",
       "enseignement                                      1796\n",
       "Centres Commerciaux                               1417\n",
       "Industrie                                         1114\n",
       "Occupation continue (hôpitaux, hôtels, intern      955\n",
       "Artisanat                                          767\n",
       "Local commercial                                   679\n",
       "Magasin de vente                                   647\n",
       "commerce                                           523\n",
       "Restaurant                                         472\n",
       "autres bâtiments                                   424\n",
       "établissement de santé                             375\n",
       "Structure d’accueil pour personnes âgées           357\n",
       "Name: tr002_type_batiment_id, dtype: int64"
      ]
     },
     "execution_count": 61,
     "metadata": {},
     "output_type": "execute_result"
    }
   ],
   "source": [
    "df_classement = X_train.groupby(by=\"secteur_activite\")['tr002_type_batiment_id'].count().sort_values(ascending=False)\n",
    "df_classement.head(20)"
   ]
  },
  {
   "cell_type": "code",
   "execution_count": 59,
   "id": "efff1451",
   "metadata": {},
   "outputs": [],
   "source": [
    "liste_familles_principales = ['Commerce', 'Bureaux', 'Bureau, Administration, Enseignement',\n",
    "                             'Autres (théâtres, salles de sport, restaurati']\n",
    "X_train_secteur = X_train[X_train['secteur_activite'].isin(liste_familles_principales)]\n",
    "df_test_2 = X_train_secteur.join(Y, how = 'left')[['secteur_activite', 'classe_estimation_ges', 'annee_construction']]\n",
    "df_test_3 = df_test_2.groupby(['secteur_activite', 'classe_estimation_ges']).count()\n",
    "\n",
    "df_test_3.rename(columns={'annee_construction':'nombre'}, inplace=True)\n",
    "df_test_3['secteur_classe'] = df_test_3.index.to_numpy()\n",
    "df_test_3\n",
    "loc = pd.DataFrame.from_records(df_test_3.secteur_classe.reset_index(drop=True),\n",
    "                                columns=['secteur_activite','classe_estimation_ges'],\n",
    "                                index=df_test_3.index)\n",
    "\n",
    "\n",
    "df_test_3 = df_test_3.join(loc, how = 'left')[['nombre']].reset_index()\n",
    "\n",
    "df_test_3 = df_test_3.pivot(values = 'nombre', index = 'secteur_activite', columns= 'classe_estimation_ges')"
   ]
  },
  {
   "cell_type": "code",
   "execution_count": 60,
   "id": "9e6fab83",
   "metadata": {},
   "outputs": [
    {
     "data": {
      "text/plain": [
       "<AxesSubplot:title={'center':'Greenhouse gaz emission of different activities'}, xlabel='Secteur activité', ylabel='Nombre de logements'>"
      ]
     },
     "execution_count": 60,
     "metadata": {},
     "output_type": "execute_result"
    },
    {
     "data": {
      "image/png": "[encoded data removed]",
      "text/plain": [
       "<Figure size 1080x576 with 1 Axes>"
      ]
     },
     "metadata": {
      "needs_background": "light"
     },
     "output_type": "display_data"
    }
   ],
   "source": [
    "df_test_3.plot(kind='bar', stacked=False, xlabel= 'Secteur activité', ylabel= 'Nombre de logements', figsize=(15,8), \n",
    "title = 'Greenhouse gaz emission of different activities' )"
   ]
  },
  {
   "cell_type": "markdown",
   "id": "7c0a0dbb",
   "metadata": {},
   "source": [
    "## The model to submit"
   ]
  },
  {
   "cell_type": "markdown",
   "id": "b7922a8d",
   "metadata": {},
   "source": [
    "The submission consists of one file: `estimator.py` which defines a `Preprocessor` class, and a `Classifier` class, these two class are combined in a function `get_estimator`used for prediction\n",
    "\n",
    "- `Preprocessor` can (optionally) hold code to calculate and add additional features.\n",
    "- `Classifier` fits the model and predicts on (new) data, as outputted by the `Preprocessor`. The prediction should be in the form of a (n_samples, 2) array with the probabilities of the two classes."
   ]
  },
  {
   "cell_type": "code",
   "execution_count": 37,
   "id": "6c609de0",
   "metadata": {},
   "outputs": [],
   "source": [
    "from sklearn.linear_model import LogisticRegression\n",
    "from sklearn.pipeline import make_pipeline\n",
    "from sklearn.base import BaseEstimator\n",
    "from sklearn.preprocessing import StandardScaler\n",
    "from sklearn.impute import SimpleImputer\n",
    "\n",
    "import numpy as np\n",
    "import pandas as pd\n",
    "\n",
    "\n",
    "class Preprocessor(BaseEstimator):\n",
    "    def fit(self, X, y):\n",
    "        return self\n",
    "\n",
    "    def transform(self, X):\n",
    "        # Remove useless columns\n",
    "        X = X.drop(\n",
    "            columns=[\n",
    "                \"commune\",\n",
    "                \"arrondissement\",\n",
    "                \"type_voie\",\n",
    "                \"nom_rue\",\n",
    "                \"numero_rue\",\n",
    "                \"code_postal\",\n",
    "                \"code_insee_commune\",\n",
    "                \"code_insee_commune_actualise\",\n",
    "                \"numero_lot\",\n",
    "                \"nom_centre_commercial\",\n",
    "                \"tr002_type_batiment_id\",\n",
    "                \"secteur_activite\",\n",
    "                \"tr012_categorie_erp_id\",\n",
    "                \"tr013_type_erp_id\",\n",
    "                \"tv016_departement_id\",\n",
    "                \"batiment\",\n",
    "                \"escalier\",\n",
    "                \"etage\",\n",
    "                \"porte\",\n",
    "                \"quote_part\",\n",
    "                \"portee_dpe_batiment\",\n",
    "                \"partie_batiment\",\n",
    "                \"en_souterrain\",\n",
    "                \"en_surface\",\n",
    "                \"nombre_circulations_verticales\",  # faible variance\n",
    "                \"nombre_boutiques\",  # faible variance\"\n",
    "                \"presence_verriere\",\n",
    "                \"type_vitrage_verriere\",  # faible variance\n",
    "                \"etat_avancement\",\n",
    "                \"adresse_organisme_certificateur\",\n",
    "                \"dpe_vierge\",  # faible variance\n",
    "                \"est_efface\",  # faible variance\n",
    "                \"date_reception_dpe\",  # date\n",
    "                \"geo_score\",\n",
    "                \"geo_type\",\n",
    "                \"geo_adresse\",\n",
    "                \"geo_id\",\n",
    "                \"geo_l4\",\n",
    "                \"geo_l5\",\n",
    "                \"tr002_type_batiment_code\",\n",
    "                \"tr002_type_batiment_description\",\n",
    "                \"tr002_type_batiment_libelle\",\n",
    "                \"tr002_type_batiment_est_efface\",\n",
    "                \"tr002_type_batiment_ordre\",\n",
    "                \"tr002_type_batiment_simulateur\",\n",
    "                \"tr012_categorie_erp_code\",\n",
    "                \"tr012_categorie_erp_categorie\",\n",
    "                \"tr012_categorie_erp_groupe\",\n",
    "                \"tr012_categorie_erp_est_efface\",\n",
    "                \"tr013_type_erp_code\",\n",
    "                \"tr013_type_erp_type\",\n",
    "                \"tr013_type_erp_categorie_id\",\n",
    "                \"tr013_type_erp_est_efface\",\n",
    "                \"tr013_type_erp_categorie\",\n",
    "                \"tv016_departement_code\",\n",
    "                \"tv016_departement_departement\",\n",
    "                \"tv017_zone_hiver_id\",\n",
    "                \"tv018_zone_ete_id\",\n",
    "                \"tv016_departement_altmin\",\n",
    "                \"tv016_departement_altmax\",\n",
    "                \"tv016_departement_nref\",\n",
    "                \"tv016_departement_dhref\",\n",
    "                \"tv016_departement_pref\",\n",
    "                \"tv016_departement_c2\",\n",
    "                \"tv016_departement_c3\",\n",
    "                \"tv016_departement_c4\",\n",
    "                \"tv016_departement_t_ext_basse\",\n",
    "                \"tv016_departement_e\",\n",
    "                \"tv016_departement_fch\",\n",
    "                \"tv016_departement_fecs_ancienne_m_i\",\n",
    "                \"tv016_departement_fecs_recente_m_i\",\n",
    "                \"tv016_departement_fecs_solaire_m_i\",\n",
    "                \"tv016_departement_fecs_ancienne_i_c\",\n",
    "                \"tv016_departement_fecs_recente_i_c\",\n",
    "                \"tv017_zone_hiver_code\",\n",
    "                \"tv017_zone_hiver_t_ext_moyen\",\n",
    "                \"tv017_zone_hiver_peta_cw\",\n",
    "                \"tv017_zone_hiver_dh14\",\n",
    "                \"tv017_zone_hiver_prs1\",\n",
    "                \"tv018_zone_ete_code\",\n",
    "                \"tv018_zone_ete_sclim_inf_150\",\n",
    "                \"tv018_zone_ete_sclim_sup_150\",\n",
    "                \"tv018_zone_ete_rclim_autres_etages\",\n",
    "                \"tv018_zone_ete_rclim_dernier_etage\",\n",
    "            ]\n",
    "        )\n",
    "\n",
    "        # list of columns to convert to float which is replacing a \"\\N\" to \"0.00\" among possible values\n",
    "        nan_to_clean = [\n",
    "            \"surface_parois_verticales_opaques_deperditives\",\n",
    "            \"surface_planchers_bas_deperditifs\",\n",
    "            \"surface_planchers_hauts_deperditifs\",\n",
    "            \"surface_baies_orientees_sud\",\n",
    "            \"surface_baies_orientees_est_ouest\",\n",
    "            \"surface_baies_orientees_nord\",\n",
    "            \"nombre_entrees_sans_sas\",\n",
    "            \"nombre_entrees_avec_sas\",\n",
    "            \"surface_verriere\",\n",
    "            \"nombre_niveaux\",\n",
    "            \"surface_utile\",\n",
    "            \"shon\",\n",
    "            \"surface_commerciale_contractuelle\",\n",
    "            \"surface_thermique_lot\",\n",
    "            \"surface_habitable\",\n",
    "            \"surface_thermique_parties_communes\",\n",
    "        ]\n",
    "        for col in nan_to_clean:\n",
    "            X[col] = X[col].replace(r\"\\N\", \"0.00\")\n",
    "            X[col] = X[col].replace(\",\", \"\")  # clean the decimals\n",
    "            X[col] = pd.to_numeric(X[col], errors=\"coerce\")\n",
    "\n",
    "        # Replace NaN by mean for 'surface_commerciale_contractuelle'\n",
    "        X[\"surface_commerciale_contractuelle\"] = X[\n",
    "            \"surface_commerciale_contractuelle\"\n",
    "        ].fillna(X[\"surface_commerciale_contractuelle\"].mean())\n",
    "        return X\n",
    "\n",
    "\n",
    "class Classifier(BaseEstimator):\n",
    "    def __init__(self):\n",
    "        self.model1 = LogisticRegression(max_iter=10_000)\n",
    "        self.model2 = LogisticRegression(max_iter=10_000)\n",
    "\n",
    "    def fit(self, X, Y):\n",
    "        # Y are pd.DataFrame here\n",
    "        self.model1.fit(X, Y.iloc[:, 0])\n",
    "        self.model2.fit(X, Y.iloc[:, 1])\n",
    "\n",
    "    def predict(self, X):\n",
    "        y1 = self.model1.predict_proba(X)\n",
    "        y2 = self.model2.predict_proba(X)\n",
    "        # Y_pred are nd.ndarray here\n",
    "        Y_pred = np.concatenate([y1, y2], axis=1)\n",
    "        # 2 discrete probability distributions\n",
    "        assert Y_pred.shape[1] == 14\n",
    "        return Y_pred\n",
    "\n",
    "\n",
    "def get_estimator():\n",
    "    pipe = make_pipeline(Preprocessor(), StandardScaler(), Classifier())\n",
    "    return pipe\n"
   ]
  },
  {
   "cell_type": "markdown",
   "id": "402a6c73",
   "metadata": {},
   "source": [
    "## First example: Displaying the energy consumption class confusion matrix"
   ]
  },
  {
   "cell_type": "code",
   "execution_count": 48,
   "id": "102f7eb0",
   "metadata": {},
   "outputs": [],
   "source": [
    "from sklearn.metrics import confusion_matrix\n",
    "from sklearn.metrics import ConfusionMatrixDisplay"
   ]
  },
  {
   "cell_type": "code",
   "execution_count": 49,
   "id": "8291a476",
   "metadata": {},
   "outputs": [],
   "source": [
    "model = make_pipeline(Preprocessor(), Classifier())"
   ]
  },
  {
   "cell_type": "code",
   "execution_count": 50,
   "id": "66959bb8",
   "metadata": {},
   "outputs": [
    {
     "data": {
      "text/plain": [
       "Pipeline(steps=[('preprocessor', Preprocessor()), ('classifier', Classifier())])"
      ]
     },
     "execution_count": 50,
     "metadata": {},
     "output_type": "execute_result"
    }
   ],
   "source": [
    "model.fit(X_train.iloc[0:5000, :], Y_train.iloc[0:5000, :])"
   ]
  },
  {
   "cell_type": "code",
   "execution_count": 51,
   "id": "720a2016",
   "metadata": {},
   "outputs": [],
   "source": [
    "prediction = model.predict(X_test.iloc[:, :])\n",
    "prediction_conso_energie = pd.DataFrame(prediction).iloc[:, 0:7].rename(columns={0: 'A', 1: 'B', 2: 'C', 3: 'D', 4: 'E', 5 : 'F', 6:'G' })\n",
    "pred = prediction_conso_energie.idxmax(axis=1)\n",
    "true_value = Y_test.iloc[:, 0]"
   ]
  },
  {
   "cell_type": "code",
   "execution_count": 52,
   "id": "7f20ec96",
   "metadata": {},
   "outputs": [
    {
     "data": {
      "image/png": "[encoded data removed]",
      "text/plain": [
       "<Figure size 432x288 with 2 Axes>"
      ]
     },
     "metadata": {
      "needs_background": "light"
     },
     "output_type": "display_data"
    }
   ],
   "source": [
    "cm = confusion_matrix(true_value, pred)\n",
    "disp = ConfusionMatrixDisplay(confusion_matrix=cm)\n",
    "disp.plot()\n",
    "plt.show()"
   ]
  }
 ],
 "metadata": {
  "kernelspec": {
   "display_name": "Python 3",
   "language": "python",
   "name": "python3"
  },
  "language_info": {
   "codemirror_mode": {
    "name": "ipython",
    "version": 3
   },
   "file_extension": ".py",
   "mimetype": "text/x-python",
   "name": "python",
   "nbconvert_exporter": "python",
   "pygments_lexer": "ipython3",
   "version": "3.7.6"
  },
  "vscode": {
   "interpreter": {
    "hash": "b28c85921aade49c8f1744d25ca3a1022616cb5222d87fd583230a50fad55145"
   }
  }
 },
 "nbformat": 4,
 "nbformat_minor": 5
}
